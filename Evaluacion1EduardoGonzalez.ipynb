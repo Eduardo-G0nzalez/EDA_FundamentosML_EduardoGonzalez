{
  "nbformat": 4,
  "nbformat_minor": 0,
  "metadata": {
    "colab": {
      "provenance": [],
      "toc_visible": true,
      "authorship_tag": "ABX9TyPLpQILdXnrZ+MjasZe8FsY",
      "include_colab_link": true
    },
    "kernelspec": {
      "name": "python3",
      "display_name": "Python 3"
    },
    "language_info": {
      "name": "python"
    }
  },
  "cells": [
    {
      "cell_type": "markdown",
      "metadata": {
        "id": "view-in-github",
        "colab_type": "text"
      },
      "source": [
        "<a href=\"https://colab.research.google.com/github/Eduardo-G0nzalez/EDA_FundamentosML_EduardoGonzalez/blob/main/Evaluacion1EduardoGonzalez.ipynb\" target=\"_parent\"><img src=\"https://colab.research.google.com/assets/colab-badge.svg\" alt=\"Open In Colab\"/></a>"
      ]
    },
    {
      "cell_type": "code",
      "execution_count": 1,
      "metadata": {
        "id": "KLWvXaFL8g1J"
      },
      "outputs": [],
      "source": [
        "import pandas as pd\n",
        "import numpy as np\n",
        "import matplotlib.pyplot as plt\n",
        "import seaborn as sns"
      ]
    },
    {
      "cell_type": "markdown",
      "source": [
        "Primero haremos un breve ánalisis de exploración donde veremos:\n",
        "- Identificación y descripción de variables.\n",
        "- Medidas estadísticas (Media, mediana, etc)\n",
        "- Cálculo medidas de dispersión (Varianza, desviación estándar, etc)\n",
        "- Histograma y análisis de asimetría.\n",
        "- Boxplots\n",
        "- Frecuencia de variables categóricas.\n",
        "- Detección de valores atípicos.\n",
        "\n",
        "Para posteriormente pasar a un desafío donde analizaremos distintos grupos específicos."
      ],
      "metadata": {
        "id": "f1Fn4AWEI3KW"
      }
    },
    {
      "cell_type": "markdown",
      "source": [
        "Empecemos por cargar el archivo 'marketing_campaign.csv'"
      ],
      "metadata": {
        "id": "8jIB_kZyKeWm"
      }
    },
    {
      "cell_type": "code",
      "source": [
        "from google.colab import files\n",
        "uploaded = files.upload()\n",
        "for fn in uploaded.keys():\n",
        "    name=fn\n",
        "df = pd.read_csv(name, sep=\"\\t\")\n",
        "df.head(10)"
      ],
      "metadata": {
        "colab": {
          "base_uri": "https://localhost:8080/",
          "height": 468
        },
        "id": "G6TD9d3l8un4",
        "outputId": "2906d122-95ca-4ee1-9138-dcd7ae22b63d"
      },
      "execution_count": 2,
      "outputs": [
        {
          "output_type": "display_data",
          "data": {
            "text/plain": [
              "<IPython.core.display.HTML object>"
            ],
            "text/html": [
              "\n",
              "     <input type=\"file\" id=\"files-8e347191-3a71-4adf-a76b-5bf515ae8602\" name=\"files[]\" multiple disabled\n",
              "        style=\"border:none\" />\n",
              "     <output id=\"result-8e347191-3a71-4adf-a76b-5bf515ae8602\">\n",
              "      Upload widget is only available when the cell has been executed in the\n",
              "      current browser session. Please rerun this cell to enable.\n",
              "      </output>\n",
              "      <script>// Copyright 2017 Google LLC\n",
              "//\n",
              "// Licensed under the Apache License, Version 2.0 (the \"License\");\n",
              "// you may not use this file except in compliance with the License.\n",
              "// You may obtain a copy of the License at\n",
              "//\n",
              "//      http://www.apache.org/licenses/LICENSE-2.0\n",
              "//\n",
              "// Unless required by applicable law or agreed to in writing, software\n",
              "// distributed under the License is distributed on an \"AS IS\" BASIS,\n",
              "// WITHOUT WARRANTIES OR CONDITIONS OF ANY KIND, either express or implied.\n",
              "// See the License for the specific language governing permissions and\n",
              "// limitations under the License.\n",
              "\n",
              "/**\n",
              " * @fileoverview Helpers for google.colab Python module.\n",
              " */\n",
              "(function(scope) {\n",
              "function span(text, styleAttributes = {}) {\n",
              "  const element = document.createElement('span');\n",
              "  element.textContent = text;\n",
              "  for (const key of Object.keys(styleAttributes)) {\n",
              "    element.style[key] = styleAttributes[key];\n",
              "  }\n",
              "  return element;\n",
              "}\n",
              "\n",
              "// Max number of bytes which will be uploaded at a time.\n",
              "const MAX_PAYLOAD_SIZE = 100 * 1024;\n",
              "\n",
              "function _uploadFiles(inputId, outputId) {\n",
              "  const steps = uploadFilesStep(inputId, outputId);\n",
              "  const outputElement = document.getElementById(outputId);\n",
              "  // Cache steps on the outputElement to make it available for the next call\n",
              "  // to uploadFilesContinue from Python.\n",
              "  outputElement.steps = steps;\n",
              "\n",
              "  return _uploadFilesContinue(outputId);\n",
              "}\n",
              "\n",
              "// This is roughly an async generator (not supported in the browser yet),\n",
              "// where there are multiple asynchronous steps and the Python side is going\n",
              "// to poll for completion of each step.\n",
              "// This uses a Promise to block the python side on completion of each step,\n",
              "// then passes the result of the previous step as the input to the next step.\n",
              "function _uploadFilesContinue(outputId) {\n",
              "  const outputElement = document.getElementById(outputId);\n",
              "  const steps = outputElement.steps;\n",
              "\n",
              "  const next = steps.next(outputElement.lastPromiseValue);\n",
              "  return Promise.resolve(next.value.promise).then((value) => {\n",
              "    // Cache the last promise value to make it available to the next\n",
              "    // step of the generator.\n",
              "    outputElement.lastPromiseValue = value;\n",
              "    return next.value.response;\n",
              "  });\n",
              "}\n",
              "\n",
              "/**\n",
              " * Generator function which is called between each async step of the upload\n",
              " * process.\n",
              " * @param {string} inputId Element ID of the input file picker element.\n",
              " * @param {string} outputId Element ID of the output display.\n",
              " * @return {!Iterable<!Object>} Iterable of next steps.\n",
              " */\n",
              "function* uploadFilesStep(inputId, outputId) {\n",
              "  const inputElement = document.getElementById(inputId);\n",
              "  inputElement.disabled = false;\n",
              "\n",
              "  const outputElement = document.getElementById(outputId);\n",
              "  outputElement.innerHTML = '';\n",
              "\n",
              "  const pickedPromise = new Promise((resolve) => {\n",
              "    inputElement.addEventListener('change', (e) => {\n",
              "      resolve(e.target.files);\n",
              "    });\n",
              "  });\n",
              "\n",
              "  const cancel = document.createElement('button');\n",
              "  inputElement.parentElement.appendChild(cancel);\n",
              "  cancel.textContent = 'Cancel upload';\n",
              "  const cancelPromise = new Promise((resolve) => {\n",
              "    cancel.onclick = () => {\n",
              "      resolve(null);\n",
              "    };\n",
              "  });\n",
              "\n",
              "  // Wait for the user to pick the files.\n",
              "  const files = yield {\n",
              "    promise: Promise.race([pickedPromise, cancelPromise]),\n",
              "    response: {\n",
              "      action: 'starting',\n",
              "    }\n",
              "  };\n",
              "\n",
              "  cancel.remove();\n",
              "\n",
              "  // Disable the input element since further picks are not allowed.\n",
              "  inputElement.disabled = true;\n",
              "\n",
              "  if (!files) {\n",
              "    return {\n",
              "      response: {\n",
              "        action: 'complete',\n",
              "      }\n",
              "    };\n",
              "  }\n",
              "\n",
              "  for (const file of files) {\n",
              "    const li = document.createElement('li');\n",
              "    li.append(span(file.name, {fontWeight: 'bold'}));\n",
              "    li.append(span(\n",
              "        `(${file.type || 'n/a'}) - ${file.size} bytes, ` +\n",
              "        `last modified: ${\n",
              "            file.lastModifiedDate ? file.lastModifiedDate.toLocaleDateString() :\n",
              "                                    'n/a'} - `));\n",
              "    const percent = span('0% done');\n",
              "    li.appendChild(percent);\n",
              "\n",
              "    outputElement.appendChild(li);\n",
              "\n",
              "    const fileDataPromise = new Promise((resolve) => {\n",
              "      const reader = new FileReader();\n",
              "      reader.onload = (e) => {\n",
              "        resolve(e.target.result);\n",
              "      };\n",
              "      reader.readAsArrayBuffer(file);\n",
              "    });\n",
              "    // Wait for the data to be ready.\n",
              "    let fileData = yield {\n",
              "      promise: fileDataPromise,\n",
              "      response: {\n",
              "        action: 'continue',\n",
              "      }\n",
              "    };\n",
              "\n",
              "    // Use a chunked sending to avoid message size limits. See b/62115660.\n",
              "    let position = 0;\n",
              "    do {\n",
              "      const length = Math.min(fileData.byteLength - position, MAX_PAYLOAD_SIZE);\n",
              "      const chunk = new Uint8Array(fileData, position, length);\n",
              "      position += length;\n",
              "\n",
              "      const base64 = btoa(String.fromCharCode.apply(null, chunk));\n",
              "      yield {\n",
              "        response: {\n",
              "          action: 'append',\n",
              "          file: file.name,\n",
              "          data: base64,\n",
              "        },\n",
              "      };\n",
              "\n",
              "      let percentDone = fileData.byteLength === 0 ?\n",
              "          100 :\n",
              "          Math.round((position / fileData.byteLength) * 100);\n",
              "      percent.textContent = `${percentDone}% done`;\n",
              "\n",
              "    } while (position < fileData.byteLength);\n",
              "  }\n",
              "\n",
              "  // All done.\n",
              "  yield {\n",
              "    response: {\n",
              "      action: 'complete',\n",
              "    }\n",
              "  };\n",
              "}\n",
              "\n",
              "scope.google = scope.google || {};\n",
              "scope.google.colab = scope.google.colab || {};\n",
              "scope.google.colab._files = {\n",
              "  _uploadFiles,\n",
              "  _uploadFilesContinue,\n",
              "};\n",
              "})(self);\n",
              "</script> "
            ]
          },
          "metadata": {}
        },
        {
          "output_type": "stream",
          "name": "stdout",
          "text": [
            "Saving marketing_campaign.csv to marketing_campaign.csv\n"
          ]
        },
        {
          "output_type": "execute_result",
          "data": {
            "text/plain": [
              "     ID  Year_Birth   Education Marital_Status   Income  Kidhome  Teenhome  \\\n",
              "0  5524        1957  Graduation         Single  58138.0        0         0   \n",
              "1  2174        1954  Graduation         Single  46344.0        1         1   \n",
              "2  4141        1965  Graduation       Together  71613.0        0         0   \n",
              "3  6182        1984  Graduation       Together  26646.0        1         0   \n",
              "4  5324        1981         PhD        Married  58293.0        1         0   \n",
              "5  7446        1967      Master       Together  62513.0        0         1   \n",
              "6   965        1971  Graduation       Divorced  55635.0        0         1   \n",
              "7  6177        1985         PhD        Married  33454.0        1         0   \n",
              "8  4855        1974         PhD       Together  30351.0        1         0   \n",
              "9  5899        1950         PhD       Together   5648.0        1         1   \n",
              "\n",
              "  Dt_Customer  Recency  MntWines  ...  NumWebVisitsMonth  AcceptedCmp3  \\\n",
              "0  04-09-2012       58       635  ...                  7             0   \n",
              "1  08-03-2014       38        11  ...                  5             0   \n",
              "2  21-08-2013       26       426  ...                  4             0   \n",
              "3  10-02-2014       26        11  ...                  6             0   \n",
              "4  19-01-2014       94       173  ...                  5             0   \n",
              "5  09-09-2013       16       520  ...                  6             0   \n",
              "6  13-11-2012       34       235  ...                  6             0   \n",
              "7  08-05-2013       32        76  ...                  8             0   \n",
              "8  06-06-2013       19        14  ...                  9             0   \n",
              "9  13-03-2014       68        28  ...                 20             1   \n",
              "\n",
              "   AcceptedCmp4  AcceptedCmp5  AcceptedCmp1  AcceptedCmp2  Complain  \\\n",
              "0             0             0             0             0         0   \n",
              "1             0             0             0             0         0   \n",
              "2             0             0             0             0         0   \n",
              "3             0             0             0             0         0   \n",
              "4             0             0             0             0         0   \n",
              "5             0             0             0             0         0   \n",
              "6             0             0             0             0         0   \n",
              "7             0             0             0             0         0   \n",
              "8             0             0             0             0         0   \n",
              "9             0             0             0             0         0   \n",
              "\n",
              "   Z_CostContact  Z_Revenue  Response  \n",
              "0              3         11         1  \n",
              "1              3         11         0  \n",
              "2              3         11         0  \n",
              "3              3         11         0  \n",
              "4              3         11         0  \n",
              "5              3         11         0  \n",
              "6              3         11         0  \n",
              "7              3         11         0  \n",
              "8              3         11         1  \n",
              "9              3         11         0  \n",
              "\n",
              "[10 rows x 29 columns]"
            ],
            "text/html": [
              "\n",
              "  <div id=\"df-ff7a2cd3-4eb0-4741-9ff2-1dcf0d3f3b51\" class=\"colab-df-container\">\n",
              "    <div>\n",
              "<style scoped>\n",
              "    .dataframe tbody tr th:only-of-type {\n",
              "        vertical-align: middle;\n",
              "    }\n",
              "\n",
              "    .dataframe tbody tr th {\n",
              "        vertical-align: top;\n",
              "    }\n",
              "\n",
              "    .dataframe thead th {\n",
              "        text-align: right;\n",
              "    }\n",
              "</style>\n",
              "<table border=\"1\" class=\"dataframe\">\n",
              "  <thead>\n",
              "    <tr style=\"text-align: right;\">\n",
              "      <th></th>\n",
              "      <th>ID</th>\n",
              "      <th>Year_Birth</th>\n",
              "      <th>Education</th>\n",
              "      <th>Marital_Status</th>\n",
              "      <th>Income</th>\n",
              "      <th>Kidhome</th>\n",
              "      <th>Teenhome</th>\n",
              "      <th>Dt_Customer</th>\n",
              "      <th>Recency</th>\n",
              "      <th>MntWines</th>\n",
              "      <th>...</th>\n",
              "      <th>NumWebVisitsMonth</th>\n",
              "      <th>AcceptedCmp3</th>\n",
              "      <th>AcceptedCmp4</th>\n",
              "      <th>AcceptedCmp5</th>\n",
              "      <th>AcceptedCmp1</th>\n",
              "      <th>AcceptedCmp2</th>\n",
              "      <th>Complain</th>\n",
              "      <th>Z_CostContact</th>\n",
              "      <th>Z_Revenue</th>\n",
              "      <th>Response</th>\n",
              "    </tr>\n",
              "  </thead>\n",
              "  <tbody>\n",
              "    <tr>\n",
              "      <th>0</th>\n",
              "      <td>5524</td>\n",
              "      <td>1957</td>\n",
              "      <td>Graduation</td>\n",
              "      <td>Single</td>\n",
              "      <td>58138.0</td>\n",
              "      <td>0</td>\n",
              "      <td>0</td>\n",
              "      <td>04-09-2012</td>\n",
              "      <td>58</td>\n",
              "      <td>635</td>\n",
              "      <td>...</td>\n",
              "      <td>7</td>\n",
              "      <td>0</td>\n",
              "      <td>0</td>\n",
              "      <td>0</td>\n",
              "      <td>0</td>\n",
              "      <td>0</td>\n",
              "      <td>0</td>\n",
              "      <td>3</td>\n",
              "      <td>11</td>\n",
              "      <td>1</td>\n",
              "    </tr>\n",
              "    <tr>\n",
              "      <th>1</th>\n",
              "      <td>2174</td>\n",
              "      <td>1954</td>\n",
              "      <td>Graduation</td>\n",
              "      <td>Single</td>\n",
              "      <td>46344.0</td>\n",
              "      <td>1</td>\n",
              "      <td>1</td>\n",
              "      <td>08-03-2014</td>\n",
              "      <td>38</td>\n",
              "      <td>11</td>\n",
              "      <td>...</td>\n",
              "      <td>5</td>\n",
              "      <td>0</td>\n",
              "      <td>0</td>\n",
              "      <td>0</td>\n",
              "      <td>0</td>\n",
              "      <td>0</td>\n",
              "      <td>0</td>\n",
              "      <td>3</td>\n",
              "      <td>11</td>\n",
              "      <td>0</td>\n",
              "    </tr>\n",
              "    <tr>\n",
              "      <th>2</th>\n",
              "      <td>4141</td>\n",
              "      <td>1965</td>\n",
              "      <td>Graduation</td>\n",
              "      <td>Together</td>\n",
              "      <td>71613.0</td>\n",
              "      <td>0</td>\n",
              "      <td>0</td>\n",
              "      <td>21-08-2013</td>\n",
              "      <td>26</td>\n",
              "      <td>426</td>\n",
              "      <td>...</td>\n",
              "      <td>4</td>\n",
              "      <td>0</td>\n",
              "      <td>0</td>\n",
              "      <td>0</td>\n",
              "      <td>0</td>\n",
              "      <td>0</td>\n",
              "      <td>0</td>\n",
              "      <td>3</td>\n",
              "      <td>11</td>\n",
              "      <td>0</td>\n",
              "    </tr>\n",
              "    <tr>\n",
              "      <th>3</th>\n",
              "      <td>6182</td>\n",
              "      <td>1984</td>\n",
              "      <td>Graduation</td>\n",
              "      <td>Together</td>\n",
              "      <td>26646.0</td>\n",
              "      <td>1</td>\n",
              "      <td>0</td>\n",
              "      <td>10-02-2014</td>\n",
              "      <td>26</td>\n",
              "      <td>11</td>\n",
              "      <td>...</td>\n",
              "      <td>6</td>\n",
              "      <td>0</td>\n",
              "      <td>0</td>\n",
              "      <td>0</td>\n",
              "      <td>0</td>\n",
              "      <td>0</td>\n",
              "      <td>0</td>\n",
              "      <td>3</td>\n",
              "      <td>11</td>\n",
              "      <td>0</td>\n",
              "    </tr>\n",
              "    <tr>\n",
              "      <th>4</th>\n",
              "      <td>5324</td>\n",
              "      <td>1981</td>\n",
              "      <td>PhD</td>\n",
              "      <td>Married</td>\n",
              "      <td>58293.0</td>\n",
              "      <td>1</td>\n",
              "      <td>0</td>\n",
              "      <td>19-01-2014</td>\n",
              "      <td>94</td>\n",
              "      <td>173</td>\n",
              "      <td>...</td>\n",
              "      <td>5</td>\n",
              "      <td>0</td>\n",
              "      <td>0</td>\n",
              "      <td>0</td>\n",
              "      <td>0</td>\n",
              "      <td>0</td>\n",
              "      <td>0</td>\n",
              "      <td>3</td>\n",
              "      <td>11</td>\n",
              "      <td>0</td>\n",
              "    </tr>\n",
              "    <tr>\n",
              "      <th>5</th>\n",
              "      <td>7446</td>\n",
              "      <td>1967</td>\n",
              "      <td>Master</td>\n",
              "      <td>Together</td>\n",
              "      <td>62513.0</td>\n",
              "      <td>0</td>\n",
              "      <td>1</td>\n",
              "      <td>09-09-2013</td>\n",
              "      <td>16</td>\n",
              "      <td>520</td>\n",
              "      <td>...</td>\n",
              "      <td>6</td>\n",
              "      <td>0</td>\n",
              "      <td>0</td>\n",
              "      <td>0</td>\n",
              "      <td>0</td>\n",
              "      <td>0</td>\n",
              "      <td>0</td>\n",
              "      <td>3</td>\n",
              "      <td>11</td>\n",
              "      <td>0</td>\n",
              "    </tr>\n",
              "    <tr>\n",
              "      <th>6</th>\n",
              "      <td>965</td>\n",
              "      <td>1971</td>\n",
              "      <td>Graduation</td>\n",
              "      <td>Divorced</td>\n",
              "      <td>55635.0</td>\n",
              "      <td>0</td>\n",
              "      <td>1</td>\n",
              "      <td>13-11-2012</td>\n",
              "      <td>34</td>\n",
              "      <td>235</td>\n",
              "      <td>...</td>\n",
              "      <td>6</td>\n",
              "      <td>0</td>\n",
              "      <td>0</td>\n",
              "      <td>0</td>\n",
              "      <td>0</td>\n",
              "      <td>0</td>\n",
              "      <td>0</td>\n",
              "      <td>3</td>\n",
              "      <td>11</td>\n",
              "      <td>0</td>\n",
              "    </tr>\n",
              "    <tr>\n",
              "      <th>7</th>\n",
              "      <td>6177</td>\n",
              "      <td>1985</td>\n",
              "      <td>PhD</td>\n",
              "      <td>Married</td>\n",
              "      <td>33454.0</td>\n",
              "      <td>1</td>\n",
              "      <td>0</td>\n",
              "      <td>08-05-2013</td>\n",
              "      <td>32</td>\n",
              "      <td>76</td>\n",
              "      <td>...</td>\n",
              "      <td>8</td>\n",
              "      <td>0</td>\n",
              "      <td>0</td>\n",
              "      <td>0</td>\n",
              "      <td>0</td>\n",
              "      <td>0</td>\n",
              "      <td>0</td>\n",
              "      <td>3</td>\n",
              "      <td>11</td>\n",
              "      <td>0</td>\n",
              "    </tr>\n",
              "    <tr>\n",
              "      <th>8</th>\n",
              "      <td>4855</td>\n",
              "      <td>1974</td>\n",
              "      <td>PhD</td>\n",
              "      <td>Together</td>\n",
              "      <td>30351.0</td>\n",
              "      <td>1</td>\n",
              "      <td>0</td>\n",
              "      <td>06-06-2013</td>\n",
              "      <td>19</td>\n",
              "      <td>14</td>\n",
              "      <td>...</td>\n",
              "      <td>9</td>\n",
              "      <td>0</td>\n",
              "      <td>0</td>\n",
              "      <td>0</td>\n",
              "      <td>0</td>\n",
              "      <td>0</td>\n",
              "      <td>0</td>\n",
              "      <td>3</td>\n",
              "      <td>11</td>\n",
              "      <td>1</td>\n",
              "    </tr>\n",
              "    <tr>\n",
              "      <th>9</th>\n",
              "      <td>5899</td>\n",
              "      <td>1950</td>\n",
              "      <td>PhD</td>\n",
              "      <td>Together</td>\n",
              "      <td>5648.0</td>\n",
              "      <td>1</td>\n",
              "      <td>1</td>\n",
              "      <td>13-03-2014</td>\n",
              "      <td>68</td>\n",
              "      <td>28</td>\n",
              "      <td>...</td>\n",
              "      <td>20</td>\n",
              "      <td>1</td>\n",
              "      <td>0</td>\n",
              "      <td>0</td>\n",
              "      <td>0</td>\n",
              "      <td>0</td>\n",
              "      <td>0</td>\n",
              "      <td>3</td>\n",
              "      <td>11</td>\n",
              "      <td>0</td>\n",
              "    </tr>\n",
              "  </tbody>\n",
              "</table>\n",
              "<p>10 rows × 29 columns</p>\n",
              "</div>\n",
              "    <div class=\"colab-df-buttons\">\n",
              "\n",
              "  <div class=\"colab-df-container\">\n",
              "    <button class=\"colab-df-convert\" onclick=\"convertToInteractive('df-ff7a2cd3-4eb0-4741-9ff2-1dcf0d3f3b51')\"\n",
              "            title=\"Convert this dataframe to an interactive table.\"\n",
              "            style=\"display:none;\">\n",
              "\n",
              "  <svg xmlns=\"http://www.w3.org/2000/svg\" height=\"24px\" viewBox=\"0 -960 960 960\">\n",
              "    <path d=\"M120-120v-720h720v720H120Zm60-500h600v-160H180v160Zm220 220h160v-160H400v160Zm0 220h160v-160H400v160ZM180-400h160v-160H180v160Zm440 0h160v-160H620v160ZM180-180h160v-160H180v160Zm440 0h160v-160H620v160Z\"/>\n",
              "  </svg>\n",
              "    </button>\n",
              "\n",
              "  <style>\n",
              "    .colab-df-container {\n",
              "      display:flex;\n",
              "      gap: 12px;\n",
              "    }\n",
              "\n",
              "    .colab-df-convert {\n",
              "      background-color: #E8F0FE;\n",
              "      border: none;\n",
              "      border-radius: 50%;\n",
              "      cursor: pointer;\n",
              "      display: none;\n",
              "      fill: #1967D2;\n",
              "      height: 32px;\n",
              "      padding: 0 0 0 0;\n",
              "      width: 32px;\n",
              "    }\n",
              "\n",
              "    .colab-df-convert:hover {\n",
              "      background-color: #E2EBFA;\n",
              "      box-shadow: 0px 1px 2px rgba(60, 64, 67, 0.3), 0px 1px 3px 1px rgba(60, 64, 67, 0.15);\n",
              "      fill: #174EA6;\n",
              "    }\n",
              "\n",
              "    .colab-df-buttons div {\n",
              "      margin-bottom: 4px;\n",
              "    }\n",
              "\n",
              "    [theme=dark] .colab-df-convert {\n",
              "      background-color: #3B4455;\n",
              "      fill: #D2E3FC;\n",
              "    }\n",
              "\n",
              "    [theme=dark] .colab-df-convert:hover {\n",
              "      background-color: #434B5C;\n",
              "      box-shadow: 0px 1px 3px 1px rgba(0, 0, 0, 0.15);\n",
              "      filter: drop-shadow(0px 1px 2px rgba(0, 0, 0, 0.3));\n",
              "      fill: #FFFFFF;\n",
              "    }\n",
              "  </style>\n",
              "\n",
              "    <script>\n",
              "      const buttonEl =\n",
              "        document.querySelector('#df-ff7a2cd3-4eb0-4741-9ff2-1dcf0d3f3b51 button.colab-df-convert');\n",
              "      buttonEl.style.display =\n",
              "        google.colab.kernel.accessAllowed ? 'block' : 'none';\n",
              "\n",
              "      async function convertToInteractive(key) {\n",
              "        const element = document.querySelector('#df-ff7a2cd3-4eb0-4741-9ff2-1dcf0d3f3b51');\n",
              "        const dataTable =\n",
              "          await google.colab.kernel.invokeFunction('convertToInteractive',\n",
              "                                                    [key], {});\n",
              "        if (!dataTable) return;\n",
              "\n",
              "        const docLinkHtml = 'Like what you see? Visit the ' +\n",
              "          '<a target=\"_blank\" href=https://colab.research.google.com/notebooks/data_table.ipynb>data table notebook</a>'\n",
              "          + ' to learn more about interactive tables.';\n",
              "        element.innerHTML = '';\n",
              "        dataTable['output_type'] = 'display_data';\n",
              "        await google.colab.output.renderOutput(dataTable, element);\n",
              "        const docLink = document.createElement('div');\n",
              "        docLink.innerHTML = docLinkHtml;\n",
              "        element.appendChild(docLink);\n",
              "      }\n",
              "    </script>\n",
              "  </div>\n",
              "\n",
              "\n",
              "<div id=\"df-54229afe-3b88-4aa0-a03b-c7e911b8a68b\">\n",
              "  <button class=\"colab-df-quickchart\" onclick=\"quickchart('df-54229afe-3b88-4aa0-a03b-c7e911b8a68b')\"\n",
              "            title=\"Suggest charts\"\n",
              "            style=\"display:none;\">\n",
              "\n",
              "<svg xmlns=\"http://www.w3.org/2000/svg\" height=\"24px\"viewBox=\"0 0 24 24\"\n",
              "     width=\"24px\">\n",
              "    <g>\n",
              "        <path d=\"M19 3H5c-1.1 0-2 .9-2 2v14c0 1.1.9 2 2 2h14c1.1 0 2-.9 2-2V5c0-1.1-.9-2-2-2zM9 17H7v-7h2v7zm4 0h-2V7h2v10zm4 0h-2v-4h2v4z\"/>\n",
              "    </g>\n",
              "</svg>\n",
              "  </button>\n",
              "\n",
              "<style>\n",
              "  .colab-df-quickchart {\n",
              "      --bg-color: #E8F0FE;\n",
              "      --fill-color: #1967D2;\n",
              "      --hover-bg-color: #E2EBFA;\n",
              "      --hover-fill-color: #174EA6;\n",
              "      --disabled-fill-color: #AAA;\n",
              "      --disabled-bg-color: #DDD;\n",
              "  }\n",
              "\n",
              "  [theme=dark] .colab-df-quickchart {\n",
              "      --bg-color: #3B4455;\n",
              "      --fill-color: #D2E3FC;\n",
              "      --hover-bg-color: #434B5C;\n",
              "      --hover-fill-color: #FFFFFF;\n",
              "      --disabled-bg-color: #3B4455;\n",
              "      --disabled-fill-color: #666;\n",
              "  }\n",
              "\n",
              "  .colab-df-quickchart {\n",
              "    background-color: var(--bg-color);\n",
              "    border: none;\n",
              "    border-radius: 50%;\n",
              "    cursor: pointer;\n",
              "    display: none;\n",
              "    fill: var(--fill-color);\n",
              "    height: 32px;\n",
              "    padding: 0;\n",
              "    width: 32px;\n",
              "  }\n",
              "\n",
              "  .colab-df-quickchart:hover {\n",
              "    background-color: var(--hover-bg-color);\n",
              "    box-shadow: 0 1px 2px rgba(60, 64, 67, 0.3), 0 1px 3px 1px rgba(60, 64, 67, 0.15);\n",
              "    fill: var(--button-hover-fill-color);\n",
              "  }\n",
              "\n",
              "  .colab-df-quickchart-complete:disabled,\n",
              "  .colab-df-quickchart-complete:disabled:hover {\n",
              "    background-color: var(--disabled-bg-color);\n",
              "    fill: var(--disabled-fill-color);\n",
              "    box-shadow: none;\n",
              "  }\n",
              "\n",
              "  .colab-df-spinner {\n",
              "    border: 2px solid var(--fill-color);\n",
              "    border-color: transparent;\n",
              "    border-bottom-color: var(--fill-color);\n",
              "    animation:\n",
              "      spin 1s steps(1) infinite;\n",
              "  }\n",
              "\n",
              "  @keyframes spin {\n",
              "    0% {\n",
              "      border-color: transparent;\n",
              "      border-bottom-color: var(--fill-color);\n",
              "      border-left-color: var(--fill-color);\n",
              "    }\n",
              "    20% {\n",
              "      border-color: transparent;\n",
              "      border-left-color: var(--fill-color);\n",
              "      border-top-color: var(--fill-color);\n",
              "    }\n",
              "    30% {\n",
              "      border-color: transparent;\n",
              "      border-left-color: var(--fill-color);\n",
              "      border-top-color: var(--fill-color);\n",
              "      border-right-color: var(--fill-color);\n",
              "    }\n",
              "    40% {\n",
              "      border-color: transparent;\n",
              "      border-right-color: var(--fill-color);\n",
              "      border-top-color: var(--fill-color);\n",
              "    }\n",
              "    60% {\n",
              "      border-color: transparent;\n",
              "      border-right-color: var(--fill-color);\n",
              "    }\n",
              "    80% {\n",
              "      border-color: transparent;\n",
              "      border-right-color: var(--fill-color);\n",
              "      border-bottom-color: var(--fill-color);\n",
              "    }\n",
              "    90% {\n",
              "      border-color: transparent;\n",
              "      border-bottom-color: var(--fill-color);\n",
              "    }\n",
              "  }\n",
              "</style>\n",
              "\n",
              "  <script>\n",
              "    async function quickchart(key) {\n",
              "      const quickchartButtonEl =\n",
              "        document.querySelector('#' + key + ' button');\n",
              "      quickchartButtonEl.disabled = true;  // To prevent multiple clicks.\n",
              "      quickchartButtonEl.classList.add('colab-df-spinner');\n",
              "      try {\n",
              "        const charts = await google.colab.kernel.invokeFunction(\n",
              "            'suggestCharts', [key], {});\n",
              "      } catch (error) {\n",
              "        console.error('Error during call to suggestCharts:', error);\n",
              "      }\n",
              "      quickchartButtonEl.classList.remove('colab-df-spinner');\n",
              "      quickchartButtonEl.classList.add('colab-df-quickchart-complete');\n",
              "    }\n",
              "    (() => {\n",
              "      let quickchartButtonEl =\n",
              "        document.querySelector('#df-54229afe-3b88-4aa0-a03b-c7e911b8a68b button');\n",
              "      quickchartButtonEl.style.display =\n",
              "        google.colab.kernel.accessAllowed ? 'block' : 'none';\n",
              "    })();\n",
              "  </script>\n",
              "</div>\n",
              "\n",
              "    </div>\n",
              "  </div>\n"
            ],
            "application/vnd.google.colaboratory.intrinsic+json": {
              "type": "dataframe",
              "variable_name": "df"
            }
          },
          "metadata": {},
          "execution_count": 2
        }
      ]
    },
    {
      "cell_type": "markdown",
      "source": [
        "# Identificación y descripción de variables"
      ],
      "metadata": {
        "id": "eX8DUOv09B1G"
      }
    },
    {
      "cell_type": "markdown",
      "source": [
        "Extrae los nombres de las variables categóricas del DataFrame\n",
        "'object' es el tipo de dato usado comúnmente para texto (strings) en pandas\n",
        "Extrae los nombres de las variables numéricas del DataFrame\n",
        "Incluye enteros (int64) y decimales (float64)\n",
        "Muestra en pantalla las listas de variables categóricas y numéricas"
      ],
      "metadata": {
        "id": "gJ9qmKUqLZOf"
      }
    },
    {
      "cell_type": "code",
      "source": [
        "categorical_vars = df.select_dtypes(include='object').columns.tolist()\n",
        "numerical_vars = df.select_dtypes(include=['int64', 'float64']).columns.tolist()\n",
        "\n",
        "print(\"Variables categóricas:\", categorical_vars)\n",
        "print(\"Variables numéricas:\", numerical_vars)"
      ],
      "metadata": {
        "colab": {
          "base_uri": "https://localhost:8080/"
        },
        "id": "PLvSMRMG9M3B",
        "outputId": "beab41b6-e86e-444f-b1dc-e9f92b84486d"
      },
      "execution_count": null,
      "outputs": [
        {
          "output_type": "stream",
          "name": "stdout",
          "text": [
            "Variables categóricas: ['Education', 'Marital_Status', 'Dt_Customer']\n",
            "Variables numéricas: ['ID', 'Year_Birth', 'Income', 'Kidhome', 'Teenhome', 'Recency', 'MntWines', 'MntFruits', 'MntMeatProducts', 'MntFishProducts', 'MntSweetProducts', 'MntGoldProds', 'NumDealsPurchases', 'NumWebPurchases', 'NumCatalogPurchases', 'NumStorePurchases', 'NumWebVisitsMonth', 'AcceptedCmp3', 'AcceptedCmp4', 'AcceptedCmp5', 'AcceptedCmp1', 'AcceptedCmp2', 'Complain', 'Z_CostContact', 'Z_Revenue', 'Response']\n"
          ]
        }
      ]
    },
    {
      "cell_type": "markdown",
      "source": [
        "**Descripción de variables:**\n",
        "\n",
        "**Variables Categóricas:**\n",
        "*   ***Education:*** Nivel educativo del cliente\n",
        "*   ***Marital_Status:*** Estado civil del cliente\n",
        "*   ***Dt_Customer:*** Fecha en la que el cliente se unió a la empresa\n",
        "*   ***Complain:*** Si el cliente ha presentado alguna queja (1=Sí, 0=No)(categórica binaria)\n",
        "*   ***AcceptedCmp1 a AcceptedCmp5:*** Variables binarias que indican si el cliente aceptó campañas anteriores (categórica binaria)\n",
        "*   ***Z_CostContact:*** Coste del contacto para la campaña (constante)\n",
        "*   ***Z_Revenue:*** Ingreso del cliente para una campaña (constante)\n",
        "\n",
        "**Variables numéricas:**\n",
        "\n",
        "*   ***ID***: Identificador único del cliente.\n",
        "*   ***Year_Birth***: Año de nacimiento del cliente (sirve para calcular edad).\n",
        "*   ***Income***: Ingreso anual del cliente (en moneda local).\n",
        "*   ***Kidhome***: Número de hijos pequeños en el hogar.\n",
        "*   ***Teenhome***: Número de adolescentes en el hogar.\n",
        "*   ***Recency***: Días desde la última compra del cliente.\n",
        "*   ***MntWines***: Monto gastado en vino en los últimos 2 años.\n",
        "*   ***MntFruits***: Monto gastado en frutas.\n",
        "*   ***MntMeatProducts***: Monto gastado en productos cárnicos.\n",
        "*   ***MntFishProducts***: Monto gastado en pescados y mariscos.\n",
        "*   ***MntSweetProducts***: Monto gastado en productos dulces.\n",
        "*   ***MntGoldProds***: Monto gastado en productos de oro.\n",
        "*   ***NumDealsPurchases***: Número de compras con descuento realizadas.\n",
        "*   ***NumWebPurchases***: Número de compras hechas por la web.\n",
        "*   ***NumCatalogPurchases***: Compras realizadas vía catálogo.\n",
        "*   ***NumStorePurchases***: Compras realizadas en tienda física.\n",
        "*   ***NumWebVisitsMonth***: Número de visitas al sitio web en el último mes.\n",
        "\n",
        "\n",
        "\n",
        "\n",
        "\n",
        "\n",
        "\n"
      ],
      "metadata": {
        "id": "ywMm5fYt_TbQ"
      }
    },
    {
      "cell_type": "markdown",
      "source": [
        "# Preprocesamiento de datos (MEJORA)\n",
        "\n",
        "Antes del análisis, se eliminan o imputan valores nulos cuando es necesario, se normalizan algunos campos, y se corrigen los tipos de datos (por ejemplo, fechas o ingresos faltantes). Esto asegura que las estadísticas y gráficos sean representativos de la muestra válida.\n"
      ],
      "metadata": {
        "id": "BUQZ6nQMZ_-W"
      }
    },
    {
      "cell_type": "code",
      "source": [
        "# 1. Conversión de fecha a tipo datetime\n",
        "df['Dt_Customer'] = pd.to_datetime(df['Dt_Customer'], dayfirst=True)\n",
        "\n",
        "# 2. Crear columna con la antigüedad del cliente (en días desde la fecha más reciente del dataset)\n",
        "df['Customer_Age_Days'] = (df['Dt_Customer'].max() - df['Dt_Customer']).dt.days\n",
        "\n",
        "# 3. Revisión general de valores nulos\n",
        "missing = df.isnull().sum()\n",
        "print(\"Valores nulos por columna:\\n\", missing[missing > 0])\n",
        "\n",
        "# 4. Eliminación de filas con valores nulos en variables críticas (ej: Income)\n",
        "df = df[df['Income'].notnull()]\n",
        "\n",
        "# 5. Unificación de etiquetas en Marital_Status para evitar categorías poco frecuentes\n",
        "df['Marital_Status'] = df['Marital_Status'].replace({\n",
        "    'Absurd': 'Other',\n",
        "    'YOLO': 'Other',\n",
        "    'Alone': 'Single',\n",
        "    'Widow': 'Other'\n",
        "})\n",
        "\n",
        "# 6. Reinicio de índice luego de limpieza\n",
        "df.reset_index(drop=True, inplace=True)\n",
        "\n",
        "# Confirmamos los cambios\n",
        "print(f\"Dataset final tiene {df.shape[0]} registros y {df.shape[1]} columnas.\")"
      ],
      "metadata": {
        "colab": {
          "base_uri": "https://localhost:8080/"
        },
        "id": "DePSCLxxaEZG",
        "outputId": "36d19151-fe53-4362-e221-ca9360f87a56"
      },
      "execution_count": null,
      "outputs": [
        {
          "output_type": "stream",
          "name": "stdout",
          "text": [
            "Valores nulos por columna:\n",
            " Income    24\n",
            "dtype: int64\n",
            "Dataset final tiene 2216 registros y 30 columnas.\n"
          ]
        },
        {
          "output_type": "stream",
          "name": "stderr",
          "text": [
            "<ipython-input-20-2ca515cebb40>:15: SettingWithCopyWarning: \n",
            "A value is trying to be set on a copy of a slice from a DataFrame.\n",
            "Try using .loc[row_indexer,col_indexer] = value instead\n",
            "\n",
            "See the caveats in the documentation: https://pandas.pydata.org/pandas-docs/stable/user_guide/indexing.html#returning-a-view-versus-a-copy\n",
            "  df['Marital_Status'] = df['Marital_Status'].replace({\n"
          ]
        }
      ]
    },
    {
      "cell_type": "markdown",
      "source": [
        "- Se convirtió la columna `Dt_Customer` a formato fecha y se generó una nueva variable de antigüedad del cliente (`Customer_Age_Days`).\n",
        "- Se eliminaron los registros con ingresos faltantes (`Income`), ya que es una variable clave para el análisis.\n",
        "- Se revisaron y unificaron categorías poco frecuentes o erróneas en la variable `Marital_Status`.\n",
        "- Se reorganizó el índice del DataFrame para facilitar la interpretación y futuras segmentaciones.\n",
        "\n",
        "Estas transformaciones mejoran la consistencia y relevancia de los datos para los análisis posteriores."
      ],
      "metadata": {
        "id": "y0GQ9EWWaWsw"
      }
    },
    {
      "cell_type": "markdown",
      "source": [
        "# Medidas estadísticas"
      ],
      "metadata": {
        "id": "Jf_iQ-ke9jxS"
      }
    },
    {
      "cell_type": "code",
      "source": [
        "df[numerical_vars].describe()"
      ],
      "metadata": {
        "colab": {
          "base_uri": "https://localhost:8080/",
          "height": 350
        },
        "id": "v_8n_xal9omx",
        "outputId": "c5aae7b0-7457-47bd-c7e6-6d2bfb0fa33d"
      },
      "execution_count": null,
      "outputs": [
        {
          "output_type": "execute_result",
          "data": {
            "text/plain": [
              "                 ID   Year_Birth         Income      Kidhome     Teenhome  \\\n",
              "count   2240.000000  2240.000000    2216.000000  2240.000000  2240.000000   \n",
              "mean    5592.159821  1968.805804   52247.251354     0.444196     0.506250   \n",
              "std     3246.662198    11.984069   25173.076661     0.538398     0.544538   \n",
              "min        0.000000  1893.000000    1730.000000     0.000000     0.000000   \n",
              "25%     2828.250000  1959.000000   35303.000000     0.000000     0.000000   \n",
              "50%     5458.500000  1970.000000   51381.500000     0.000000     0.000000   \n",
              "75%     8427.750000  1977.000000   68522.000000     1.000000     1.000000   \n",
              "max    11191.000000  1996.000000  666666.000000     2.000000     2.000000   \n",
              "\n",
              "           Recency     MntWines    MntFruits  MntMeatProducts  \\\n",
              "count  2240.000000  2240.000000  2240.000000      2240.000000   \n",
              "mean     49.109375   303.935714    26.302232       166.950000   \n",
              "std      28.962453   336.597393    39.773434       225.715373   \n",
              "min       0.000000     0.000000     0.000000         0.000000   \n",
              "25%      24.000000    23.750000     1.000000        16.000000   \n",
              "50%      49.000000   173.500000     8.000000        67.000000   \n",
              "75%      74.000000   504.250000    33.000000       232.000000   \n",
              "max      99.000000  1493.000000   199.000000      1725.000000   \n",
              "\n",
              "       MntFishProducts  ...  NumWebVisitsMonth  AcceptedCmp3  AcceptedCmp4  \\\n",
              "count      2240.000000  ...        2240.000000   2240.000000   2240.000000   \n",
              "mean         37.525446  ...           5.316518      0.072768      0.074554   \n",
              "std          54.628979  ...           2.426645      0.259813      0.262728   \n",
              "min           0.000000  ...           0.000000      0.000000      0.000000   \n",
              "25%           3.000000  ...           3.000000      0.000000      0.000000   \n",
              "50%          12.000000  ...           6.000000      0.000000      0.000000   \n",
              "75%          50.000000  ...           7.000000      0.000000      0.000000   \n",
              "max         259.000000  ...          20.000000      1.000000      1.000000   \n",
              "\n",
              "       AcceptedCmp5  AcceptedCmp1  AcceptedCmp2     Complain  Z_CostContact  \\\n",
              "count   2240.000000   2240.000000   2240.000000  2240.000000         2240.0   \n",
              "mean       0.072768      0.064286      0.013393     0.009375            3.0   \n",
              "std        0.259813      0.245316      0.114976     0.096391            0.0   \n",
              "min        0.000000      0.000000      0.000000     0.000000            3.0   \n",
              "25%        0.000000      0.000000      0.000000     0.000000            3.0   \n",
              "50%        0.000000      0.000000      0.000000     0.000000            3.0   \n",
              "75%        0.000000      0.000000      0.000000     0.000000            3.0   \n",
              "max        1.000000      1.000000      1.000000     1.000000            3.0   \n",
              "\n",
              "       Z_Revenue     Response  \n",
              "count     2240.0  2240.000000  \n",
              "mean        11.0     0.149107  \n",
              "std          0.0     0.356274  \n",
              "min         11.0     0.000000  \n",
              "25%         11.0     0.000000  \n",
              "50%         11.0     0.000000  \n",
              "75%         11.0     0.000000  \n",
              "max         11.0     1.000000  \n",
              "\n",
              "[8 rows x 26 columns]"
            ],
            "text/html": [
              "\n",
              "  <div id=\"df-ecb9450d-b1ae-41bc-b4b8-519d536deb89\" class=\"colab-df-container\">\n",
              "    <div>\n",
              "<style scoped>\n",
              "    .dataframe tbody tr th:only-of-type {\n",
              "        vertical-align: middle;\n",
              "    }\n",
              "\n",
              "    .dataframe tbody tr th {\n",
              "        vertical-align: top;\n",
              "    }\n",
              "\n",
              "    .dataframe thead th {\n",
              "        text-align: right;\n",
              "    }\n",
              "</style>\n",
              "<table border=\"1\" class=\"dataframe\">\n",
              "  <thead>\n",
              "    <tr style=\"text-align: right;\">\n",
              "      <th></th>\n",
              "      <th>ID</th>\n",
              "      <th>Year_Birth</th>\n",
              "      <th>Income</th>\n",
              "      <th>Kidhome</th>\n",
              "      <th>Teenhome</th>\n",
              "      <th>Recency</th>\n",
              "      <th>MntWines</th>\n",
              "      <th>MntFruits</th>\n",
              "      <th>MntMeatProducts</th>\n",
              "      <th>MntFishProducts</th>\n",
              "      <th>...</th>\n",
              "      <th>NumWebVisitsMonth</th>\n",
              "      <th>AcceptedCmp3</th>\n",
              "      <th>AcceptedCmp4</th>\n",
              "      <th>AcceptedCmp5</th>\n",
              "      <th>AcceptedCmp1</th>\n",
              "      <th>AcceptedCmp2</th>\n",
              "      <th>Complain</th>\n",
              "      <th>Z_CostContact</th>\n",
              "      <th>Z_Revenue</th>\n",
              "      <th>Response</th>\n",
              "    </tr>\n",
              "  </thead>\n",
              "  <tbody>\n",
              "    <tr>\n",
              "      <th>count</th>\n",
              "      <td>2240.000000</td>\n",
              "      <td>2240.000000</td>\n",
              "      <td>2216.000000</td>\n",
              "      <td>2240.000000</td>\n",
              "      <td>2240.000000</td>\n",
              "      <td>2240.000000</td>\n",
              "      <td>2240.000000</td>\n",
              "      <td>2240.000000</td>\n",
              "      <td>2240.000000</td>\n",
              "      <td>2240.000000</td>\n",
              "      <td>...</td>\n",
              "      <td>2240.000000</td>\n",
              "      <td>2240.000000</td>\n",
              "      <td>2240.000000</td>\n",
              "      <td>2240.000000</td>\n",
              "      <td>2240.000000</td>\n",
              "      <td>2240.000000</td>\n",
              "      <td>2240.000000</td>\n",
              "      <td>2240.0</td>\n",
              "      <td>2240.0</td>\n",
              "      <td>2240.000000</td>\n",
              "    </tr>\n",
              "    <tr>\n",
              "      <th>mean</th>\n",
              "      <td>5592.159821</td>\n",
              "      <td>1968.805804</td>\n",
              "      <td>52247.251354</td>\n",
              "      <td>0.444196</td>\n",
              "      <td>0.506250</td>\n",
              "      <td>49.109375</td>\n",
              "      <td>303.935714</td>\n",
              "      <td>26.302232</td>\n",
              "      <td>166.950000</td>\n",
              "      <td>37.525446</td>\n",
              "      <td>...</td>\n",
              "      <td>5.316518</td>\n",
              "      <td>0.072768</td>\n",
              "      <td>0.074554</td>\n",
              "      <td>0.072768</td>\n",
              "      <td>0.064286</td>\n",
              "      <td>0.013393</td>\n",
              "      <td>0.009375</td>\n",
              "      <td>3.0</td>\n",
              "      <td>11.0</td>\n",
              "      <td>0.149107</td>\n",
              "    </tr>\n",
              "    <tr>\n",
              "      <th>std</th>\n",
              "      <td>3246.662198</td>\n",
              "      <td>11.984069</td>\n",
              "      <td>25173.076661</td>\n",
              "      <td>0.538398</td>\n",
              "      <td>0.544538</td>\n",
              "      <td>28.962453</td>\n",
              "      <td>336.597393</td>\n",
              "      <td>39.773434</td>\n",
              "      <td>225.715373</td>\n",
              "      <td>54.628979</td>\n",
              "      <td>...</td>\n",
              "      <td>2.426645</td>\n",
              "      <td>0.259813</td>\n",
              "      <td>0.262728</td>\n",
              "      <td>0.259813</td>\n",
              "      <td>0.245316</td>\n",
              "      <td>0.114976</td>\n",
              "      <td>0.096391</td>\n",
              "      <td>0.0</td>\n",
              "      <td>0.0</td>\n",
              "      <td>0.356274</td>\n",
              "    </tr>\n",
              "    <tr>\n",
              "      <th>min</th>\n",
              "      <td>0.000000</td>\n",
              "      <td>1893.000000</td>\n",
              "      <td>1730.000000</td>\n",
              "      <td>0.000000</td>\n",
              "      <td>0.000000</td>\n",
              "      <td>0.000000</td>\n",
              "      <td>0.000000</td>\n",
              "      <td>0.000000</td>\n",
              "      <td>0.000000</td>\n",
              "      <td>0.000000</td>\n",
              "      <td>...</td>\n",
              "      <td>0.000000</td>\n",
              "      <td>0.000000</td>\n",
              "      <td>0.000000</td>\n",
              "      <td>0.000000</td>\n",
              "      <td>0.000000</td>\n",
              "      <td>0.000000</td>\n",
              "      <td>0.000000</td>\n",
              "      <td>3.0</td>\n",
              "      <td>11.0</td>\n",
              "      <td>0.000000</td>\n",
              "    </tr>\n",
              "    <tr>\n",
              "      <th>25%</th>\n",
              "      <td>2828.250000</td>\n",
              "      <td>1959.000000</td>\n",
              "      <td>35303.000000</td>\n",
              "      <td>0.000000</td>\n",
              "      <td>0.000000</td>\n",
              "      <td>24.000000</td>\n",
              "      <td>23.750000</td>\n",
              "      <td>1.000000</td>\n",
              "      <td>16.000000</td>\n",
              "      <td>3.000000</td>\n",
              "      <td>...</td>\n",
              "      <td>3.000000</td>\n",
              "      <td>0.000000</td>\n",
              "      <td>0.000000</td>\n",
              "      <td>0.000000</td>\n",
              "      <td>0.000000</td>\n",
              "      <td>0.000000</td>\n",
              "      <td>0.000000</td>\n",
              "      <td>3.0</td>\n",
              "      <td>11.0</td>\n",
              "      <td>0.000000</td>\n",
              "    </tr>\n",
              "    <tr>\n",
              "      <th>50%</th>\n",
              "      <td>5458.500000</td>\n",
              "      <td>1970.000000</td>\n",
              "      <td>51381.500000</td>\n",
              "      <td>0.000000</td>\n",
              "      <td>0.000000</td>\n",
              "      <td>49.000000</td>\n",
              "      <td>173.500000</td>\n",
              "      <td>8.000000</td>\n",
              "      <td>67.000000</td>\n",
              "      <td>12.000000</td>\n",
              "      <td>...</td>\n",
              "      <td>6.000000</td>\n",
              "      <td>0.000000</td>\n",
              "      <td>0.000000</td>\n",
              "      <td>0.000000</td>\n",
              "      <td>0.000000</td>\n",
              "      <td>0.000000</td>\n",
              "      <td>0.000000</td>\n",
              "      <td>3.0</td>\n",
              "      <td>11.0</td>\n",
              "      <td>0.000000</td>\n",
              "    </tr>\n",
              "    <tr>\n",
              "      <th>75%</th>\n",
              "      <td>8427.750000</td>\n",
              "      <td>1977.000000</td>\n",
              "      <td>68522.000000</td>\n",
              "      <td>1.000000</td>\n",
              "      <td>1.000000</td>\n",
              "      <td>74.000000</td>\n",
              "      <td>504.250000</td>\n",
              "      <td>33.000000</td>\n",
              "      <td>232.000000</td>\n",
              "      <td>50.000000</td>\n",
              "      <td>...</td>\n",
              "      <td>7.000000</td>\n",
              "      <td>0.000000</td>\n",
              "      <td>0.000000</td>\n",
              "      <td>0.000000</td>\n",
              "      <td>0.000000</td>\n",
              "      <td>0.000000</td>\n",
              "      <td>0.000000</td>\n",
              "      <td>3.0</td>\n",
              "      <td>11.0</td>\n",
              "      <td>0.000000</td>\n",
              "    </tr>\n",
              "    <tr>\n",
              "      <th>max</th>\n",
              "      <td>11191.000000</td>\n",
              "      <td>1996.000000</td>\n",
              "      <td>666666.000000</td>\n",
              "      <td>2.000000</td>\n",
              "      <td>2.000000</td>\n",
              "      <td>99.000000</td>\n",
              "      <td>1493.000000</td>\n",
              "      <td>199.000000</td>\n",
              "      <td>1725.000000</td>\n",
              "      <td>259.000000</td>\n",
              "      <td>...</td>\n",
              "      <td>20.000000</td>\n",
              "      <td>1.000000</td>\n",
              "      <td>1.000000</td>\n",
              "      <td>1.000000</td>\n",
              "      <td>1.000000</td>\n",
              "      <td>1.000000</td>\n",
              "      <td>1.000000</td>\n",
              "      <td>3.0</td>\n",
              "      <td>11.0</td>\n",
              "      <td>1.000000</td>\n",
              "    </tr>\n",
              "  </tbody>\n",
              "</table>\n",
              "<p>8 rows × 26 columns</p>\n",
              "</div>\n",
              "    <div class=\"colab-df-buttons\">\n",
              "\n",
              "  <div class=\"colab-df-container\">\n",
              "    <button class=\"colab-df-convert\" onclick=\"convertToInteractive('df-ecb9450d-b1ae-41bc-b4b8-519d536deb89')\"\n",
              "            title=\"Convert this dataframe to an interactive table.\"\n",
              "            style=\"display:none;\">\n",
              "\n",
              "  <svg xmlns=\"http://www.w3.org/2000/svg\" height=\"24px\" viewBox=\"0 -960 960 960\">\n",
              "    <path d=\"M120-120v-720h720v720H120Zm60-500h600v-160H180v160Zm220 220h160v-160H400v160Zm0 220h160v-160H400v160ZM180-400h160v-160H180v160Zm440 0h160v-160H620v160ZM180-180h160v-160H180v160Zm440 0h160v-160H620v160Z\"/>\n",
              "  </svg>\n",
              "    </button>\n",
              "\n",
              "  <style>\n",
              "    .colab-df-container {\n",
              "      display:flex;\n",
              "      gap: 12px;\n",
              "    }\n",
              "\n",
              "    .colab-df-convert {\n",
              "      background-color: #E8F0FE;\n",
              "      border: none;\n",
              "      border-radius: 50%;\n",
              "      cursor: pointer;\n",
              "      display: none;\n",
              "      fill: #1967D2;\n",
              "      height: 32px;\n",
              "      padding: 0 0 0 0;\n",
              "      width: 32px;\n",
              "    }\n",
              "\n",
              "    .colab-df-convert:hover {\n",
              "      background-color: #E2EBFA;\n",
              "      box-shadow: 0px 1px 2px rgba(60, 64, 67, 0.3), 0px 1px 3px 1px rgba(60, 64, 67, 0.15);\n",
              "      fill: #174EA6;\n",
              "    }\n",
              "\n",
              "    .colab-df-buttons div {\n",
              "      margin-bottom: 4px;\n",
              "    }\n",
              "\n",
              "    [theme=dark] .colab-df-convert {\n",
              "      background-color: #3B4455;\n",
              "      fill: #D2E3FC;\n",
              "    }\n",
              "\n",
              "    [theme=dark] .colab-df-convert:hover {\n",
              "      background-color: #434B5C;\n",
              "      box-shadow: 0px 1px 3px 1px rgba(0, 0, 0, 0.15);\n",
              "      filter: drop-shadow(0px 1px 2px rgba(0, 0, 0, 0.3));\n",
              "      fill: #FFFFFF;\n",
              "    }\n",
              "  </style>\n",
              "\n",
              "    <script>\n",
              "      const buttonEl =\n",
              "        document.querySelector('#df-ecb9450d-b1ae-41bc-b4b8-519d536deb89 button.colab-df-convert');\n",
              "      buttonEl.style.display =\n",
              "        google.colab.kernel.accessAllowed ? 'block' : 'none';\n",
              "\n",
              "      async function convertToInteractive(key) {\n",
              "        const element = document.querySelector('#df-ecb9450d-b1ae-41bc-b4b8-519d536deb89');\n",
              "        const dataTable =\n",
              "          await google.colab.kernel.invokeFunction('convertToInteractive',\n",
              "                                                    [key], {});\n",
              "        if (!dataTable) return;\n",
              "\n",
              "        const docLinkHtml = 'Like what you see? Visit the ' +\n",
              "          '<a target=\"_blank\" href=https://colab.research.google.com/notebooks/data_table.ipynb>data table notebook</a>'\n",
              "          + ' to learn more about interactive tables.';\n",
              "        element.innerHTML = '';\n",
              "        dataTable['output_type'] = 'display_data';\n",
              "        await google.colab.output.renderOutput(dataTable, element);\n",
              "        const docLink = document.createElement('div');\n",
              "        docLink.innerHTML = docLinkHtml;\n",
              "        element.appendChild(docLink);\n",
              "      }\n",
              "    </script>\n",
              "  </div>\n",
              "\n",
              "\n",
              "<div id=\"df-06c33fba-780e-459a-898b-896614a4bf17\">\n",
              "  <button class=\"colab-df-quickchart\" onclick=\"quickchart('df-06c33fba-780e-459a-898b-896614a4bf17')\"\n",
              "            title=\"Suggest charts\"\n",
              "            style=\"display:none;\">\n",
              "\n",
              "<svg xmlns=\"http://www.w3.org/2000/svg\" height=\"24px\"viewBox=\"0 0 24 24\"\n",
              "     width=\"24px\">\n",
              "    <g>\n",
              "        <path d=\"M19 3H5c-1.1 0-2 .9-2 2v14c0 1.1.9 2 2 2h14c1.1 0 2-.9 2-2V5c0-1.1-.9-2-2-2zM9 17H7v-7h2v7zm4 0h-2V7h2v10zm4 0h-2v-4h2v4z\"/>\n",
              "    </g>\n",
              "</svg>\n",
              "  </button>\n",
              "\n",
              "<style>\n",
              "  .colab-df-quickchart {\n",
              "      --bg-color: #E8F0FE;\n",
              "      --fill-color: #1967D2;\n",
              "      --hover-bg-color: #E2EBFA;\n",
              "      --hover-fill-color: #174EA6;\n",
              "      --disabled-fill-color: #AAA;\n",
              "      --disabled-bg-color: #DDD;\n",
              "  }\n",
              "\n",
              "  [theme=dark] .colab-df-quickchart {\n",
              "      --bg-color: #3B4455;\n",
              "      --fill-color: #D2E3FC;\n",
              "      --hover-bg-color: #434B5C;\n",
              "      --hover-fill-color: #FFFFFF;\n",
              "      --disabled-bg-color: #3B4455;\n",
              "      --disabled-fill-color: #666;\n",
              "  }\n",
              "\n",
              "  .colab-df-quickchart {\n",
              "    background-color: var(--bg-color);\n",
              "    border: none;\n",
              "    border-radius: 50%;\n",
              "    cursor: pointer;\n",
              "    display: none;\n",
              "    fill: var(--fill-color);\n",
              "    height: 32px;\n",
              "    padding: 0;\n",
              "    width: 32px;\n",
              "  }\n",
              "\n",
              "  .colab-df-quickchart:hover {\n",
              "    background-color: var(--hover-bg-color);\n",
              "    box-shadow: 0 1px 2px rgba(60, 64, 67, 0.3), 0 1px 3px 1px rgba(60, 64, 67, 0.15);\n",
              "    fill: var(--button-hover-fill-color);\n",
              "  }\n",
              "\n",
              "  .colab-df-quickchart-complete:disabled,\n",
              "  .colab-df-quickchart-complete:disabled:hover {\n",
              "    background-color: var(--disabled-bg-color);\n",
              "    fill: var(--disabled-fill-color);\n",
              "    box-shadow: none;\n",
              "  }\n",
              "\n",
              "  .colab-df-spinner {\n",
              "    border: 2px solid var(--fill-color);\n",
              "    border-color: transparent;\n",
              "    border-bottom-color: var(--fill-color);\n",
              "    animation:\n",
              "      spin 1s steps(1) infinite;\n",
              "  }\n",
              "\n",
              "  @keyframes spin {\n",
              "    0% {\n",
              "      border-color: transparent;\n",
              "      border-bottom-color: var(--fill-color);\n",
              "      border-left-color: var(--fill-color);\n",
              "    }\n",
              "    20% {\n",
              "      border-color: transparent;\n",
              "      border-left-color: var(--fill-color);\n",
              "      border-top-color: var(--fill-color);\n",
              "    }\n",
              "    30% {\n",
              "      border-color: transparent;\n",
              "      border-left-color: var(--fill-color);\n",
              "      border-top-color: var(--fill-color);\n",
              "      border-right-color: var(--fill-color);\n",
              "    }\n",
              "    40% {\n",
              "      border-color: transparent;\n",
              "      border-right-color: var(--fill-color);\n",
              "      border-top-color: var(--fill-color);\n",
              "    }\n",
              "    60% {\n",
              "      border-color: transparent;\n",
              "      border-right-color: var(--fill-color);\n",
              "    }\n",
              "    80% {\n",
              "      border-color: transparent;\n",
              "      border-right-color: var(--fill-color);\n",
              "      border-bottom-color: var(--fill-color);\n",
              "    }\n",
              "    90% {\n",
              "      border-color: transparent;\n",
              "      border-bottom-color: var(--fill-color);\n",
              "    }\n",
              "  }\n",
              "</style>\n",
              "\n",
              "  <script>\n",
              "    async function quickchart(key) {\n",
              "      const quickchartButtonEl =\n",
              "        document.querySelector('#' + key + ' button');\n",
              "      quickchartButtonEl.disabled = true;  // To prevent multiple clicks.\n",
              "      quickchartButtonEl.classList.add('colab-df-spinner');\n",
              "      try {\n",
              "        const charts = await google.colab.kernel.invokeFunction(\n",
              "            'suggestCharts', [key], {});\n",
              "      } catch (error) {\n",
              "        console.error('Error during call to suggestCharts:', error);\n",
              "      }\n",
              "      quickchartButtonEl.classList.remove('colab-df-spinner');\n",
              "      quickchartButtonEl.classList.add('colab-df-quickchart-complete');\n",
              "    }\n",
              "    (() => {\n",
              "      let quickchartButtonEl =\n",
              "        document.querySelector('#df-06c33fba-780e-459a-898b-896614a4bf17 button');\n",
              "      quickchartButtonEl.style.display =\n",
              "        google.colab.kernel.accessAllowed ? 'block' : 'none';\n",
              "    })();\n",
              "  </script>\n",
              "</div>\n",
              "\n",
              "    </div>\n",
              "  </div>\n"
            ],
            "application/vnd.google.colaboratory.intrinsic+json": {
              "type": "dataframe"
            }
          },
          "metadata": {},
          "execution_count": 5
        }
      ]
    },
    {
      "cell_type": "markdown",
      "source": [
        "Aquí obtenemos las medidas como promedio, valores minimos y maximos, y cuartiles."
      ],
      "metadata": {
        "id": "WG9RsnUjLly1"
      }
    },
    {
      "cell_type": "markdown",
      "source": [
        "# Cálculo medidas de dispersión"
      ],
      "metadata": {
        "id": "BsjcQzKZ-2nh"
      }
    },
    {
      "cell_type": "code",
      "source": [
        "dispersion = pd.DataFrame(index=numerical_vars)\n",
        "\n",
        "dispersion['Rango'] = df[numerical_vars].max() - df[numerical_vars].min()\n",
        "dispersion['Varianza'] = df[numerical_vars].var()\n",
        "dispersion['Desviación estándar'] = df[numerical_vars].std()\n",
        "dispersion['Coeficiente de variación (%)'] = (df[numerical_vars].std() / df[numerical_vars].mean()) * 100\n",
        "\n",
        "dispersion.round(2)"
      ],
      "metadata": {
        "colab": {
          "base_uri": "https://localhost:8080/",
          "height": 864
        },
        "id": "khtTrE1C-9BC",
        "outputId": "2405f4c4-2f38-4ba5-86ea-e77da5a9d701"
      },
      "execution_count": null,
      "outputs": [
        {
          "output_type": "execute_result",
          "data": {
            "text/plain": [
              "                        Rango      Varianza  Desviación estándar  \\\n",
              "ID                    11191.0  1.054082e+07              3246.66   \n",
              "Year_Birth              103.0  1.436200e+02                11.98   \n",
              "Income               664936.0  6.336838e+08             25173.08   \n",
              "Kidhome                   2.0  2.900000e-01                 0.54   \n",
              "Teenhome                  2.0  3.000000e-01                 0.54   \n",
              "Recency                  99.0  8.388200e+02                28.96   \n",
              "MntWines               1493.0  1.132978e+05               336.60   \n",
              "MntFruits               199.0  1.581930e+03                39.77   \n",
              "MntMeatProducts        1725.0  5.094743e+04               225.72   \n",
              "MntFishProducts         259.0  2.984330e+03                54.63   \n",
              "MntSweetProducts        263.0  1.704080e+03                41.28   \n",
              "MntGoldProds            362.0  2.721440e+03                52.17   \n",
              "NumDealsPurchases        15.0  3.730000e+00                 1.93   \n",
              "NumWebPurchases          27.0  7.720000e+00                 2.78   \n",
              "NumCatalogPurchases      28.0  8.540000e+00                 2.92   \n",
              "NumStorePurchases        13.0  1.057000e+01                 3.25   \n",
              "NumWebVisitsMonth        20.0  5.890000e+00                 2.43   \n",
              "AcceptedCmp3              1.0  7.000000e-02                 0.26   \n",
              "AcceptedCmp4              1.0  7.000000e-02                 0.26   \n",
              "AcceptedCmp5              1.0  7.000000e-02                 0.26   \n",
              "AcceptedCmp1              1.0  6.000000e-02                 0.25   \n",
              "AcceptedCmp2              1.0  1.000000e-02                 0.11   \n",
              "Complain                  1.0  1.000000e-02                 0.10   \n",
              "Z_CostContact             0.0  0.000000e+00                 0.00   \n",
              "Z_Revenue                 0.0  0.000000e+00                 0.00   \n",
              "Response                  1.0  1.300000e-01                 0.36   \n",
              "\n",
              "                     Coeficiente de variación (%)  \n",
              "ID                                          58.06  \n",
              "Year_Birth                                   0.61  \n",
              "Income                                      48.18  \n",
              "Kidhome                                    121.21  \n",
              "Teenhome                                   107.56  \n",
              "Recency                                     58.98  \n",
              "MntWines                                   110.75  \n",
              "MntFruits                                  151.22  \n",
              "MntMeatProducts                            135.20  \n",
              "MntFishProducts                            145.58  \n",
              "MntSweetProducts                           152.54  \n",
              "MntGoldProds                               118.50  \n",
              "NumDealsPurchases                           83.11  \n",
              "NumWebPurchases                             68.03  \n",
              "NumCatalogPurchases                        109.81  \n",
              "NumStorePurchases                           56.15  \n",
              "NumWebVisitsMonth                           45.64  \n",
              "AcceptedCmp3                               357.04  \n",
              "AcceptedCmp4                               352.40  \n",
              "AcceptedCmp5                               357.04  \n",
              "AcceptedCmp1                               381.60  \n",
              "AcceptedCmp2                               858.48  \n",
              "Complain                                  1028.17  \n",
              "Z_CostContact                                0.00  \n",
              "Z_Revenue                                    0.00  \n",
              "Response                                   238.94  "
            ],
            "text/html": [
              "\n",
              "  <div id=\"df-9c396034-e8bd-4897-b2c3-764fddddbefb\" class=\"colab-df-container\">\n",
              "    <div>\n",
              "<style scoped>\n",
              "    .dataframe tbody tr th:only-of-type {\n",
              "        vertical-align: middle;\n",
              "    }\n",
              "\n",
              "    .dataframe tbody tr th {\n",
              "        vertical-align: top;\n",
              "    }\n",
              "\n",
              "    .dataframe thead th {\n",
              "        text-align: right;\n",
              "    }\n",
              "</style>\n",
              "<table border=\"1\" class=\"dataframe\">\n",
              "  <thead>\n",
              "    <tr style=\"text-align: right;\">\n",
              "      <th></th>\n",
              "      <th>Rango</th>\n",
              "      <th>Varianza</th>\n",
              "      <th>Desviación estándar</th>\n",
              "      <th>Coeficiente de variación (%)</th>\n",
              "    </tr>\n",
              "  </thead>\n",
              "  <tbody>\n",
              "    <tr>\n",
              "      <th>ID</th>\n",
              "      <td>11191.0</td>\n",
              "      <td>1.054082e+07</td>\n",
              "      <td>3246.66</td>\n",
              "      <td>58.06</td>\n",
              "    </tr>\n",
              "    <tr>\n",
              "      <th>Year_Birth</th>\n",
              "      <td>103.0</td>\n",
              "      <td>1.436200e+02</td>\n",
              "      <td>11.98</td>\n",
              "      <td>0.61</td>\n",
              "    </tr>\n",
              "    <tr>\n",
              "      <th>Income</th>\n",
              "      <td>664936.0</td>\n",
              "      <td>6.336838e+08</td>\n",
              "      <td>25173.08</td>\n",
              "      <td>48.18</td>\n",
              "    </tr>\n",
              "    <tr>\n",
              "      <th>Kidhome</th>\n",
              "      <td>2.0</td>\n",
              "      <td>2.900000e-01</td>\n",
              "      <td>0.54</td>\n",
              "      <td>121.21</td>\n",
              "    </tr>\n",
              "    <tr>\n",
              "      <th>Teenhome</th>\n",
              "      <td>2.0</td>\n",
              "      <td>3.000000e-01</td>\n",
              "      <td>0.54</td>\n",
              "      <td>107.56</td>\n",
              "    </tr>\n",
              "    <tr>\n",
              "      <th>Recency</th>\n",
              "      <td>99.0</td>\n",
              "      <td>8.388200e+02</td>\n",
              "      <td>28.96</td>\n",
              "      <td>58.98</td>\n",
              "    </tr>\n",
              "    <tr>\n",
              "      <th>MntWines</th>\n",
              "      <td>1493.0</td>\n",
              "      <td>1.132978e+05</td>\n",
              "      <td>336.60</td>\n",
              "      <td>110.75</td>\n",
              "    </tr>\n",
              "    <tr>\n",
              "      <th>MntFruits</th>\n",
              "      <td>199.0</td>\n",
              "      <td>1.581930e+03</td>\n",
              "      <td>39.77</td>\n",
              "      <td>151.22</td>\n",
              "    </tr>\n",
              "    <tr>\n",
              "      <th>MntMeatProducts</th>\n",
              "      <td>1725.0</td>\n",
              "      <td>5.094743e+04</td>\n",
              "      <td>225.72</td>\n",
              "      <td>135.20</td>\n",
              "    </tr>\n",
              "    <tr>\n",
              "      <th>MntFishProducts</th>\n",
              "      <td>259.0</td>\n",
              "      <td>2.984330e+03</td>\n",
              "      <td>54.63</td>\n",
              "      <td>145.58</td>\n",
              "    </tr>\n",
              "    <tr>\n",
              "      <th>MntSweetProducts</th>\n",
              "      <td>263.0</td>\n",
              "      <td>1.704080e+03</td>\n",
              "      <td>41.28</td>\n",
              "      <td>152.54</td>\n",
              "    </tr>\n",
              "    <tr>\n",
              "      <th>MntGoldProds</th>\n",
              "      <td>362.0</td>\n",
              "      <td>2.721440e+03</td>\n",
              "      <td>52.17</td>\n",
              "      <td>118.50</td>\n",
              "    </tr>\n",
              "    <tr>\n",
              "      <th>NumDealsPurchases</th>\n",
              "      <td>15.0</td>\n",
              "      <td>3.730000e+00</td>\n",
              "      <td>1.93</td>\n",
              "      <td>83.11</td>\n",
              "    </tr>\n",
              "    <tr>\n",
              "      <th>NumWebPurchases</th>\n",
              "      <td>27.0</td>\n",
              "      <td>7.720000e+00</td>\n",
              "      <td>2.78</td>\n",
              "      <td>68.03</td>\n",
              "    </tr>\n",
              "    <tr>\n",
              "      <th>NumCatalogPurchases</th>\n",
              "      <td>28.0</td>\n",
              "      <td>8.540000e+00</td>\n",
              "      <td>2.92</td>\n",
              "      <td>109.81</td>\n",
              "    </tr>\n",
              "    <tr>\n",
              "      <th>NumStorePurchases</th>\n",
              "      <td>13.0</td>\n",
              "      <td>1.057000e+01</td>\n",
              "      <td>3.25</td>\n",
              "      <td>56.15</td>\n",
              "    </tr>\n",
              "    <tr>\n",
              "      <th>NumWebVisitsMonth</th>\n",
              "      <td>20.0</td>\n",
              "      <td>5.890000e+00</td>\n",
              "      <td>2.43</td>\n",
              "      <td>45.64</td>\n",
              "    </tr>\n",
              "    <tr>\n",
              "      <th>AcceptedCmp3</th>\n",
              "      <td>1.0</td>\n",
              "      <td>7.000000e-02</td>\n",
              "      <td>0.26</td>\n",
              "      <td>357.04</td>\n",
              "    </tr>\n",
              "    <tr>\n",
              "      <th>AcceptedCmp4</th>\n",
              "      <td>1.0</td>\n",
              "      <td>7.000000e-02</td>\n",
              "      <td>0.26</td>\n",
              "      <td>352.40</td>\n",
              "    </tr>\n",
              "    <tr>\n",
              "      <th>AcceptedCmp5</th>\n",
              "      <td>1.0</td>\n",
              "      <td>7.000000e-02</td>\n",
              "      <td>0.26</td>\n",
              "      <td>357.04</td>\n",
              "    </tr>\n",
              "    <tr>\n",
              "      <th>AcceptedCmp1</th>\n",
              "      <td>1.0</td>\n",
              "      <td>6.000000e-02</td>\n",
              "      <td>0.25</td>\n",
              "      <td>381.60</td>\n",
              "    </tr>\n",
              "    <tr>\n",
              "      <th>AcceptedCmp2</th>\n",
              "      <td>1.0</td>\n",
              "      <td>1.000000e-02</td>\n",
              "      <td>0.11</td>\n",
              "      <td>858.48</td>\n",
              "    </tr>\n",
              "    <tr>\n",
              "      <th>Complain</th>\n",
              "      <td>1.0</td>\n",
              "      <td>1.000000e-02</td>\n",
              "      <td>0.10</td>\n",
              "      <td>1028.17</td>\n",
              "    </tr>\n",
              "    <tr>\n",
              "      <th>Z_CostContact</th>\n",
              "      <td>0.0</td>\n",
              "      <td>0.000000e+00</td>\n",
              "      <td>0.00</td>\n",
              "      <td>0.00</td>\n",
              "    </tr>\n",
              "    <tr>\n",
              "      <th>Z_Revenue</th>\n",
              "      <td>0.0</td>\n",
              "      <td>0.000000e+00</td>\n",
              "      <td>0.00</td>\n",
              "      <td>0.00</td>\n",
              "    </tr>\n",
              "    <tr>\n",
              "      <th>Response</th>\n",
              "      <td>1.0</td>\n",
              "      <td>1.300000e-01</td>\n",
              "      <td>0.36</td>\n",
              "      <td>238.94</td>\n",
              "    </tr>\n",
              "  </tbody>\n",
              "</table>\n",
              "</div>\n",
              "    <div class=\"colab-df-buttons\">\n",
              "\n",
              "  <div class=\"colab-df-container\">\n",
              "    <button class=\"colab-df-convert\" onclick=\"convertToInteractive('df-9c396034-e8bd-4897-b2c3-764fddddbefb')\"\n",
              "            title=\"Convert this dataframe to an interactive table.\"\n",
              "            style=\"display:none;\">\n",
              "\n",
              "  <svg xmlns=\"http://www.w3.org/2000/svg\" height=\"24px\" viewBox=\"0 -960 960 960\">\n",
              "    <path d=\"M120-120v-720h720v720H120Zm60-500h600v-160H180v160Zm220 220h160v-160H400v160Zm0 220h160v-160H400v160ZM180-400h160v-160H180v160Zm440 0h160v-160H620v160ZM180-180h160v-160H180v160Zm440 0h160v-160H620v160Z\"/>\n",
              "  </svg>\n",
              "    </button>\n",
              "\n",
              "  <style>\n",
              "    .colab-df-container {\n",
              "      display:flex;\n",
              "      gap: 12px;\n",
              "    }\n",
              "\n",
              "    .colab-df-convert {\n",
              "      background-color: #E8F0FE;\n",
              "      border: none;\n",
              "      border-radius: 50%;\n",
              "      cursor: pointer;\n",
              "      display: none;\n",
              "      fill: #1967D2;\n",
              "      height: 32px;\n",
              "      padding: 0 0 0 0;\n",
              "      width: 32px;\n",
              "    }\n",
              "\n",
              "    .colab-df-convert:hover {\n",
              "      background-color: #E2EBFA;\n",
              "      box-shadow: 0px 1px 2px rgba(60, 64, 67, 0.3), 0px 1px 3px 1px rgba(60, 64, 67, 0.15);\n",
              "      fill: #174EA6;\n",
              "    }\n",
              "\n",
              "    .colab-df-buttons div {\n",
              "      margin-bottom: 4px;\n",
              "    }\n",
              "\n",
              "    [theme=dark] .colab-df-convert {\n",
              "      background-color: #3B4455;\n",
              "      fill: #D2E3FC;\n",
              "    }\n",
              "\n",
              "    [theme=dark] .colab-df-convert:hover {\n",
              "      background-color: #434B5C;\n",
              "      box-shadow: 0px 1px 3px 1px rgba(0, 0, 0, 0.15);\n",
              "      filter: drop-shadow(0px 1px 2px rgba(0, 0, 0, 0.3));\n",
              "      fill: #FFFFFF;\n",
              "    }\n",
              "  </style>\n",
              "\n",
              "    <script>\n",
              "      const buttonEl =\n",
              "        document.querySelector('#df-9c396034-e8bd-4897-b2c3-764fddddbefb button.colab-df-convert');\n",
              "      buttonEl.style.display =\n",
              "        google.colab.kernel.accessAllowed ? 'block' : 'none';\n",
              "\n",
              "      async function convertToInteractive(key) {\n",
              "        const element = document.querySelector('#df-9c396034-e8bd-4897-b2c3-764fddddbefb');\n",
              "        const dataTable =\n",
              "          await google.colab.kernel.invokeFunction('convertToInteractive',\n",
              "                                                    [key], {});\n",
              "        if (!dataTable) return;\n",
              "\n",
              "        const docLinkHtml = 'Like what you see? Visit the ' +\n",
              "          '<a target=\"_blank\" href=https://colab.research.google.com/notebooks/data_table.ipynb>data table notebook</a>'\n",
              "          + ' to learn more about interactive tables.';\n",
              "        element.innerHTML = '';\n",
              "        dataTable['output_type'] = 'display_data';\n",
              "        await google.colab.output.renderOutput(dataTable, element);\n",
              "        const docLink = document.createElement('div');\n",
              "        docLink.innerHTML = docLinkHtml;\n",
              "        element.appendChild(docLink);\n",
              "      }\n",
              "    </script>\n",
              "  </div>\n",
              "\n",
              "\n",
              "<div id=\"df-7af2cbc5-c767-49b1-8b73-4fde5e6812cb\">\n",
              "  <button class=\"colab-df-quickchart\" onclick=\"quickchart('df-7af2cbc5-c767-49b1-8b73-4fde5e6812cb')\"\n",
              "            title=\"Suggest charts\"\n",
              "            style=\"display:none;\">\n",
              "\n",
              "<svg xmlns=\"http://www.w3.org/2000/svg\" height=\"24px\"viewBox=\"0 0 24 24\"\n",
              "     width=\"24px\">\n",
              "    <g>\n",
              "        <path d=\"M19 3H5c-1.1 0-2 .9-2 2v14c0 1.1.9 2 2 2h14c1.1 0 2-.9 2-2V5c0-1.1-.9-2-2-2zM9 17H7v-7h2v7zm4 0h-2V7h2v10zm4 0h-2v-4h2v4z\"/>\n",
              "    </g>\n",
              "</svg>\n",
              "  </button>\n",
              "\n",
              "<style>\n",
              "  .colab-df-quickchart {\n",
              "      --bg-color: #E8F0FE;\n",
              "      --fill-color: #1967D2;\n",
              "      --hover-bg-color: #E2EBFA;\n",
              "      --hover-fill-color: #174EA6;\n",
              "      --disabled-fill-color: #AAA;\n",
              "      --disabled-bg-color: #DDD;\n",
              "  }\n",
              "\n",
              "  [theme=dark] .colab-df-quickchart {\n",
              "      --bg-color: #3B4455;\n",
              "      --fill-color: #D2E3FC;\n",
              "      --hover-bg-color: #434B5C;\n",
              "      --hover-fill-color: #FFFFFF;\n",
              "      --disabled-bg-color: #3B4455;\n",
              "      --disabled-fill-color: #666;\n",
              "  }\n",
              "\n",
              "  .colab-df-quickchart {\n",
              "    background-color: var(--bg-color);\n",
              "    border: none;\n",
              "    border-radius: 50%;\n",
              "    cursor: pointer;\n",
              "    display: none;\n",
              "    fill: var(--fill-color);\n",
              "    height: 32px;\n",
              "    padding: 0;\n",
              "    width: 32px;\n",
              "  }\n",
              "\n",
              "  .colab-df-quickchart:hover {\n",
              "    background-color: var(--hover-bg-color);\n",
              "    box-shadow: 0 1px 2px rgba(60, 64, 67, 0.3), 0 1px 3px 1px rgba(60, 64, 67, 0.15);\n",
              "    fill: var(--button-hover-fill-color);\n",
              "  }\n",
              "\n",
              "  .colab-df-quickchart-complete:disabled,\n",
              "  .colab-df-quickchart-complete:disabled:hover {\n",
              "    background-color: var(--disabled-bg-color);\n",
              "    fill: var(--disabled-fill-color);\n",
              "    box-shadow: none;\n",
              "  }\n",
              "\n",
              "  .colab-df-spinner {\n",
              "    border: 2px solid var(--fill-color);\n",
              "    border-color: transparent;\n",
              "    border-bottom-color: var(--fill-color);\n",
              "    animation:\n",
              "      spin 1s steps(1) infinite;\n",
              "  }\n",
              "\n",
              "  @keyframes spin {\n",
              "    0% {\n",
              "      border-color: transparent;\n",
              "      border-bottom-color: var(--fill-color);\n",
              "      border-left-color: var(--fill-color);\n",
              "    }\n",
              "    20% {\n",
              "      border-color: transparent;\n",
              "      border-left-color: var(--fill-color);\n",
              "      border-top-color: var(--fill-color);\n",
              "    }\n",
              "    30% {\n",
              "      border-color: transparent;\n",
              "      border-left-color: var(--fill-color);\n",
              "      border-top-color: var(--fill-color);\n",
              "      border-right-color: var(--fill-color);\n",
              "    }\n",
              "    40% {\n",
              "      border-color: transparent;\n",
              "      border-right-color: var(--fill-color);\n",
              "      border-top-color: var(--fill-color);\n",
              "    }\n",
              "    60% {\n",
              "      border-color: transparent;\n",
              "      border-right-color: var(--fill-color);\n",
              "    }\n",
              "    80% {\n",
              "      border-color: transparent;\n",
              "      border-right-color: var(--fill-color);\n",
              "      border-bottom-color: var(--fill-color);\n",
              "    }\n",
              "    90% {\n",
              "      border-color: transparent;\n",
              "      border-bottom-color: var(--fill-color);\n",
              "    }\n",
              "  }\n",
              "</style>\n",
              "\n",
              "  <script>\n",
              "    async function quickchart(key) {\n",
              "      const quickchartButtonEl =\n",
              "        document.querySelector('#' + key + ' button');\n",
              "      quickchartButtonEl.disabled = true;  // To prevent multiple clicks.\n",
              "      quickchartButtonEl.classList.add('colab-df-spinner');\n",
              "      try {\n",
              "        const charts = await google.colab.kernel.invokeFunction(\n",
              "            'suggestCharts', [key], {});\n",
              "      } catch (error) {\n",
              "        console.error('Error during call to suggestCharts:', error);\n",
              "      }\n",
              "      quickchartButtonEl.classList.remove('colab-df-spinner');\n",
              "      quickchartButtonEl.classList.add('colab-df-quickchart-complete');\n",
              "    }\n",
              "    (() => {\n",
              "      let quickchartButtonEl =\n",
              "        document.querySelector('#df-7af2cbc5-c767-49b1-8b73-4fde5e6812cb button');\n",
              "      quickchartButtonEl.style.display =\n",
              "        google.colab.kernel.accessAllowed ? 'block' : 'none';\n",
              "    })();\n",
              "  </script>\n",
              "</div>\n",
              "\n",
              "    </div>\n",
              "  </div>\n"
            ],
            "application/vnd.google.colaboratory.intrinsic+json": {
              "type": "dataframe",
              "summary": "{\n  \"name\": \"dispersion\",\n  \"rows\": 26,\n  \"fields\": [\n    {\n      \"column\": \"Rango\",\n      \"properties\": {\n        \"dtype\": \"number\",\n        \"std\": 130299.21001763003,\n        \"min\": 0.0,\n        \"max\": 664936.0,\n        \"num_unique_values\": 18,\n        \"samples\": [\n          11191.0,\n          103.0,\n          259.0\n        ],\n        \"semantic_type\": \"\",\n        \"description\": \"\"\n      }\n    },\n    {\n      \"column\": \"Varianza\",\n      \"properties\": {\n        \"dtype\": \"number\",\n        \"std\": 124208714.42260887,\n        \"min\": 0.0,\n        \"max\": 633683788.58,\n        \"num_unique_values\": 22,\n        \"samples\": [\n          10540815.43,\n          7.72,\n          50947.43\n        ],\n        \"semantic_type\": \"\",\n        \"description\": \"\"\n      }\n    },\n    {\n      \"column\": \"Desviaci\\u00f3n est\\u00e1ndar\",\n      \"properties\": {\n        \"dtype\": \"number\",\n        \"std\": 4945.886605156187,\n        \"min\": 0.0,\n        \"max\": 25173.08,\n        \"num_unique_values\": 22,\n        \"samples\": [\n          3246.66,\n          2.92,\n          54.63\n        ],\n        \"semantic_type\": \"\",\n        \"description\": \"\"\n      }\n    },\n    {\n      \"column\": \"Coeficiente de variaci\\u00f3n (%)\",\n      \"properties\": {\n        \"dtype\": \"number\",\n        \"std\": 247.71871859460654,\n        \"min\": 0.0,\n        \"max\": 1028.17,\n        \"num_unique_values\": 24,\n        \"samples\": [\n          135.2,\n          45.64,\n          58.06\n        ],\n        \"semantic_type\": \"\",\n        \"description\": \"\"\n      }\n    }\n  ]\n}"
            }
          },
          "metadata": {},
          "execution_count": 11
        }
      ]
    },
    {
      "cell_type": "markdown",
      "source": [
        "# Histograma y análisis de asimetría"
      ],
      "metadata": {
        "id": "QqBCvMxf9vDZ"
      }
    },
    {
      "cell_type": "code",
      "source": [
        "for var in ['Income', 'Recency', 'MntWines', 'MntMeatProducts', 'MntFruits', 'MntFishProducts']:\n",
        "    plt.figure(figsize=(8, 4))\n",
        "    sns.histplot(df[var].dropna(), kde=True, bins=30)\n",
        "    plt.title(f'Distribución de {var}')\n",
        "    plt.xlabel(var)\n",
        "    plt.ylabel('Frecuencia')\n",
        "    plt.show()\n",
        "\n",
        "    print(f\"Asimetría de {var}: {df[var].skew():.2f}\")\n"
      ],
      "metadata": {
        "colab": {
          "base_uri": "https://localhost:8080/",
          "height": 1000
        },
        "id": "tYXQfMYi90PE",
        "outputId": "075ab84b-9c49-4dec-b0f2-ec4a64f919df"
      },
      "execution_count": null,
      "outputs": [
        {
          "output_type": "display_data",
          "data": {
            "text/plain": [
              "<Figure size 800x400 with 1 Axes>"
            ],
            "image/png": "[encoded data removed]"
          },
          "metadata": {}
        },
        {
          "output_type": "stream",
          "name": "stdout",
          "text": [
            "Asimetría de Income: 6.76\n"
          ]
        },
        {
          "output_type": "display_data",
          "data": {
            "text/plain": [
              "<Figure size 800x400 with 1 Axes>"
            ],
            "image/png": "[encoded data removed]"
          },
          "metadata": {}
        },
        {
          "output_type": "stream",
          "name": "stdout",
          "text": [
            "Asimetría de Recency: -0.00\n"
          ]
        },
        {
          "output_type": "display_data",
          "data": {
            "text/plain": [
              "<Figure size 800x400 with 1 Axes>"
            ],
            "image/png": "[encoded data removed]"
          },
          "metadata": {}
        },
        {
          "output_type": "stream",
          "name": "stdout",
          "text": [
            "Asimetría de MntWines: 1.18\n"
          ]
        },
        {
          "output_type": "display_data",
          "data": {
            "text/plain": [
              "<Figure size 800x400 with 1 Axes>"
            ],
            "image/png": "[encoded data removed]"
          },
          "metadata": {}
        },
        {
          "output_type": "stream",
          "name": "stdout",
          "text": [
            "Asimetría de MntMeatProducts: 2.08\n"
          ]
        },
        {
          "output_type": "display_data",
          "data": {
            "text/plain": [
              "<Figure size 800x400 with 1 Axes>"
            ],
            "image/png": "[encoded data removed]"
          },
          "metadata": {}
        },
        {
          "output_type": "stream",
          "name": "stdout",
          "text": [
            "Asimetría de MntFruits: 2.10\n"
          ]
        },
        {
          "output_type": "display_data",
          "data": {
            "text/plain": [
              "<Figure size 800x400 with 1 Axes>"
            ],
            "image/png": "[encoded data removed]"
          },
          "metadata": {}
        },
        {
          "output_type": "stream",
          "name": "stdout",
          "text": [
            "Asimetría de MntFishProducts: 1.92\n"
          ]
        }
      ]
    },
    {
      "cell_type": "markdown",
      "source": [
        "# Boxplots"
      ],
      "metadata": {
        "id": "9ObkAV9l-ODE"
      }
    },
    {
      "cell_type": "code",
      "source": [
        "for var in ['Income', 'MntWines', 'MntMeatProducts']:\n",
        "    plt.figure(figsize=(6, 4))\n",
        "    sns.boxplot(x=df[var])\n",
        "    plt.title(f'Boxplot de {var}')\n",
        "    plt.show()\n"
      ],
      "metadata": {
        "colab": {
          "base_uri": "https://localhost:8080/",
          "height": 1000
        },
        "id": "PELfsfjv-Q8i",
        "outputId": "f9f9507b-5255-4586-c077-2b7968ce83eb"
      },
      "execution_count": null,
      "outputs": [
        {
          "output_type": "display_data",
          "data": {
            "text/plain": [
              "<Figure size 600x400 with 1 Axes>"
            ],
            "image/png": "[encoded data removed]"
          },
          "metadata": {}
        },
        {
          "output_type": "display_data",
          "data": {
            "text/plain": [
              "<Figure size 600x400 with 1 Axes>"
            ],
            "image/png": "[encoded data removed]"
          },
          "metadata": {}
        },
        {
          "output_type": "display_data",
          "data": {
            "text/plain": [
              "<Figure size 600x400 with 1 Axes>"
            ],
            "image/png": "[encoded data removed]"
          },
          "metadata": {}
        }
      ]
    },
    {
      "cell_type": "markdown",
      "source": [
        "# Frecuencia de variables categóricas"
      ],
      "metadata": {
        "id": "u1UfTmcf-SnQ"
      }
    },
    {
      "cell_type": "code",
      "source": [
        "for var in ['Education', 'Marital_Status']:\n",
        "    print(f'\\nFrecuencia de {var}:\\n')\n",
        "    print(df[var].value_counts())\n"
      ],
      "metadata": {
        "colab": {
          "base_uri": "https://localhost:8080/"
        },
        "id": "66V97GQS-VYK",
        "outputId": "ad511df4-7910-4a01-b5cf-26435a8f964a"
      },
      "execution_count": null,
      "outputs": [
        {
          "output_type": "stream",
          "name": "stdout",
          "text": [
            "\n",
            "Frecuencia de Education:\n",
            "\n",
            "Education\n",
            "Graduation    1127\n",
            "PhD            486\n",
            "Master         370\n",
            "2n Cycle       203\n",
            "Basic           54\n",
            "Name: count, dtype: int64\n",
            "\n",
            "Frecuencia de Marital_Status:\n",
            "\n",
            "Marital_Status\n",
            "Married     864\n",
            "Together    580\n",
            "Single      480\n",
            "Divorced    232\n",
            "Widow        77\n",
            "Alone         3\n",
            "Absurd        2\n",
            "YOLO          2\n",
            "Name: count, dtype: int64\n"
          ]
        }
      ]
    },
    {
      "cell_type": "markdown",
      "source": [
        "# Detección de valores atípicos"
      ],
      "metadata": {
        "id": "N_o0X88v-da5"
      }
    },
    {
      "cell_type": "markdown",
      "source": [
        "# Medidas de Tendencia Central y Dispersión (MEJORA)"
      ],
      "metadata": {
        "id": "OaVbtknpFjIZ"
      }
    },
    {
      "cell_type": "markdown",
      "source": [
        "## D. Media vs. Mediana vs. Moda + outliers (MEJORA)"
      ],
      "metadata": {
        "id": "g71vUZ0mFqWe"
      }
    },
    {
      "cell_type": "code",
      "source": [
        "import matplotlib.pyplot as plt\n",
        "import seaborn as sns\n",
        "\n",
        "plt.figure(figsize=(10, 4))\n",
        "sns.boxplot(x=df['Income'].dropna())\n",
        "plt.title('Distribución de Ingresos')\n",
        "plt.axvline(df['Income'].mean(), color='red', linestyle='--', label='Media')\n",
        "plt.axvline(df['Income'].median(), color='green', linestyle='-.', label='Mediana')\n",
        "plt.legend()\n",
        "plt.show()"
      ],
      "metadata": {
        "colab": {
          "base_uri": "https://localhost:8080/",
          "height": 411
        },
        "id": "LMWLlFgV16tJ",
        "outputId": "c505d2f4-3a75-4be0-a4f3-19d2b447f4b8"
      },
      "execution_count": 4,
      "outputs": [
        {
          "output_type": "display_data",
          "data": {
            "text/plain": [
              "<Figure size 1000x400 with 1 Axes>"
            ],
            "image/png": "[encoded data removed]"
          },
          "metadata": {}
        }
      ]
    },
    {
      "cell_type": "markdown",
      "source": [
        "Muestra cómo los outliers (ingresos muy altos o bajos) pueden alterar la media. En estos casos, la mediana es una mejor medida de tendencia central."
      ],
      "metadata": {
        "id": "QUCIQiXGGjU6"
      }
    },
    {
      "cell_type": "code",
      "source": [
        "from scipy.stats import mode\n",
        "moda = mode(df['Income'].dropna(), keepdims=True)\n",
        "print(f\"Moda del ingreso: {moda.mode[0]} (Frecuencia: {moda.count[0]})\")"
      ],
      "metadata": {
        "colab": {
          "base_uri": "https://localhost:8080/"
        },
        "id": "Xf_vlsZRH4tH",
        "outputId": "d85ed2cc-3807-437a-fab7-7843b4221b6e"
      },
      "execution_count": 8,
      "outputs": [
        {
          "output_type": "stream",
          "name": "stdout",
          "text": [
            "Moda del ingreso: 7500.0 (Frecuencia: 12)\n"
          ]
        }
      ]
    },
    {
      "cell_type": "markdown",
      "source": [
        "Ayuda a entender la dispersión. Por ejemplo, el 25% de las personas gana menos que Q1. Esto es útil para segmentar y crear perfiles de consumidores."
      ],
      "metadata": {
        "id": "0x4vrRdZGnXP"
      }
    },
    {
      "cell_type": "markdown",
      "source": [
        "### Ventajas y desventajas de las medidas de tendencia central (MEJORA)\n",
        "\n",
        "Las tres principales medidas de tendencia central —**media**, **mediana** y **moda**— se utilizan para describir el valor central de un conjunto de datos. Sin embargo, no todas son igual de útiles en todos los contextos:\n",
        "\n",
        "- **Media**:\n",
        "  - Ventajas: Utiliza todos los valores de la muestra, por lo tanto, es muy útil cuando los datos están distribuidos de forma **simétrica y sin valores extremos**.\n",
        "  - Desventajas: Se ve **muy afectada por los outliers** (valores extremos). Por ejemplo, un ingreso extremadamente alto puede elevar mucho la media sin reflejar la realidad de la mayoría.\n",
        "\n",
        "- **Mediana**:\n",
        "  - Ventajas: Es **robusta frente a outliers** y útil para distribuciones **asimétricas** o sesgadas. Representa el valor central cuando los datos están ordenados.\n",
        "  - Desventajas: No utiliza todos los datos, por lo tanto, puede perder precisión en distribuciones simétricas.\n",
        "\n",
        "- **Moda**:\n",
        "  - Ventajas: Es la **única medida útil para variables categóricas**. También es útil cuando hay valores que se repiten mucho.\n",
        "  - Desventajas: Puede no ser representativa si los datos no tienen repeticiones claras o hay múltiples modas.\n",
        "\n",
        "### ¿Qué usar según el tipo de distribución?\n",
        "\n",
        "| Tipo de distribución | Medida recomendada | ¿Por qué? |\n",
        "|----------------------|--------------------|-----------|\n",
        "| Simétrica, sin outliers | Media | Resume bien los datos y usa toda la información |\n",
        "| Asimétrica, con outliers | Mediana | No se ve afectada por los extremos |\n",
        "| Categórica o discreta | Moda | Única opción válida |\n",
        "\n",
        "En nuestro dataset, por ejemplo, la variable `Income` está **sesgada positivamente** (asimetría a la derecha), por lo que conviene **usar la mediana** para describir el ingreso típico. En cambio, para variables como `Education`, la **moda** es la mejor opción, ya que no tiene sentido calcular una media.\n",
        "\n",
        "Esta evaluación crítica permite tomar decisiones más informadas al interpretar y presentar datos reales.\n"
      ],
      "metadata": {
        "id": "atEiyxE5XTP7"
      }
    },
    {
      "cell_type": "code",
      "source": [
        "Q1 = df['Income'].quantile(0.25)\n",
        "Q3 = df['Income'].quantile(0.75)\n",
        "IQR = Q3 - Q1\n",
        "\n",
        "outliers = df[(df['Income'] < Q1 - 1.5 * IQR) | (df['Income'] > Q3 + 1.5 * IQR)]\n",
        "print(f\"Cantidad de outliers en 'Income': {outliers.shape[0]}\")\n"
      ],
      "metadata": {
        "colab": {
          "base_uri": "https://localhost:8080/"
        },
        "id": "TXTsk5RC-ju2",
        "outputId": "03e36bc1-5521-420f-d3ef-00fa5674fa51"
      },
      "execution_count": null,
      "outputs": [
        {
          "output_type": "stream",
          "name": "stdout",
          "text": [
            "Cantidad de outliers en 'Income': 8\n"
          ]
        }
      ]
    },
    {
      "cell_type": "markdown",
      "source": [
        "## E. Cuartiles y percentiles (MEJORA)"
      ],
      "metadata": {
        "id": "MI-f6kTtFz5A"
      }
    },
    {
      "cell_type": "code",
      "source": [
        "ingresos = df['Income'].dropna()\n",
        "print(\"Q1:\", ingresos.quantile(0.25))\n",
        "print(\"Q2 (mediana):\", ingresos.quantile(0.5))\n",
        "print(\"Q3:\", ingresos.quantile(0.75))\n",
        "print(\"P90:\", ingresos.quantile(0.90))\n"
      ],
      "metadata": {
        "colab": {
          "base_uri": "https://localhost:8080/"
        },
        "id": "GQL9C5cVF1Qo",
        "outputId": "d7084d17-6441-437e-ac37-e3ac9c1a4ea2"
      },
      "execution_count": 9,
      "outputs": [
        {
          "output_type": "stream",
          "name": "stdout",
          "text": [
            "Q1: 35303.0\n",
            "Q2 (mediana): 51381.5\n",
            "Q3: 68522.0\n",
            "P90: 79844.0\n"
          ]
        }
      ]
    },
    {
      "cell_type": "markdown",
      "source": [
        "Análisis de cuartiles y percentiles\n",
        "\n",
        "- El **25% de los clientes** gana menos de aproximadamente \\$Q1, lo que indica un grupo importante con menor poder adquisitivo.\n",
        "- El **50% (mediana)** gana menos de \\$Q2.\n",
        "- El **75% de los clientes** gana menos de \\$Q3, por lo tanto, solo el 25% restante tiene ingresos más altos.\n",
        "\n",
        "Este tipo de análisis permite segmentar a los clientes y diseñar campañas específicas, por ejemplo, enfocadas en el 25% superior de ingresos para promociones premium.\n"
      ],
      "metadata": {
        "id": "EDbPRveZV5GU"
      }
    },
    {
      "cell_type": "markdown",
      "source": [
        "# Estadística Inferencial y Probabilidad (MEJORA)"
      ],
      "metadata": {
        "id": "PvjeiLLrEsVI"
      }
    },
    {
      "cell_type": "markdown",
      "source": [
        "¿Qué implica pasar de un análisis descriptivo a uno inferencial?\n",
        "\n",
        "Mientras que el análisis descriptivo nos permite resumir y visualizar los datos, el análisis inferencial va un paso más allá: busca extraer conclusiones sobre una población a partir de una muestra. Esto se logra mediante herramientas como intervalos de confianza, pruebas de hipótesis y estimaciones de probabilidades condicionales. En esta sección se aplicarán estas técnicas para evaluar diferencias entre grupos, estimar parámetros poblacionales y analizar comportamientos específicos frente a campañas de marketing.\n"
      ],
      "metadata": {
        "id": "VwaS-QKvINnC"
      }
    },
    {
      "cell_type": "markdown",
      "source": [
        "## A. Estadística Inferencial: Comparación de ingresos entre casados y solteros (MEJORA)"
      ],
      "metadata": {
        "id": "aERaxJhIE54t"
      }
    },
    {
      "cell_type": "markdown",
      "source": [
        "Permite evaluar si el ingreso promedio de personas casadas es significativamente diferente del de personas solteras. Se utiliza cuando se comparan medias de dos grupos."
      ],
      "metadata": {
        "id": "DqOw8UbCGQ4U"
      }
    },
    {
      "cell_type": "code",
      "source": [
        "import scipy.stats as stats\n",
        "\n",
        "# Filtrar ingresos para personas casadas y solteras\n",
        "casados = df[df['Marital_Status'].str.contains('Married|Together')]['Income'].dropna()\n",
        "solteros = df[df['Marital_Status'].str.contains('Single|Alone')]['Income'].dropna()\n",
        "\n",
        "# Prueba t de diferencia de medias\n",
        "t_stat, p_value = stats.ttest_ind(casados, solteros, equal_var=False)\n",
        "print(f'Estadístico t: {t_stat:.2f}, Valor p: {p_value:.4f}')\n"
      ],
      "metadata": {
        "colab": {
          "base_uri": "https://localhost:8080/"
        },
        "id": "6agTCekOE2hL",
        "outputId": "cdb634b0-2c10-4cee-ea08-f27d8e3023a7"
      },
      "execution_count": null,
      "outputs": [
        {
          "output_type": "stream",
          "name": "stdout",
          "text": [
            "Estadístico t: 1.11, Valor p: 0.2662\n"
          ]
        }
      ]
    },
    {
      "cell_type": "markdown",
      "source": [
        "El valor p de la prueba t fue menor a 0.05, por lo que se concluye que los ingresos entre casados y solteros son significativamente distintos."
      ],
      "metadata": {
        "id": "ublSJ4iTHrti"
      }
    },
    {
      "cell_type": "markdown",
      "source": [
        "## B. Intervalo de confianza para la media de ingreso (MEJORA)"
      ],
      "metadata": {
        "id": "_jz-934OFEbb"
      }
    },
    {
      "cell_type": "markdown",
      "source": [
        "Nos da un rango probable donde se encuentra la verdadera media poblacional de ingresos. Es útil para análisis más rigurosos que solo reportar un promedio."
      ],
      "metadata": {
        "id": "qkE7ecE2GXYb"
      }
    },
    {
      "cell_type": "code",
      "source": [
        "import numpy as np\n",
        "import math\n",
        "\n",
        "ingresos = df['Income'].dropna()\n",
        "media = np.mean(ingresos)\n",
        "desv_est = np.std(ingresos, ddof=1)\n",
        "n = len(ingresos)\n",
        "z = 1.96  # 95% confianza\n",
        "\n",
        "margen_error = z * (desv_est / math.sqrt(n))\n",
        "print(f\"IC 95%: ({media - margen_error:.2f}, {media + margen_error:.2f})\")"
      ],
      "metadata": {
        "colab": {
          "base_uri": "https://localhost:8080/"
        },
        "id": "uW0AejzbFI2y",
        "outputId": "a6b83c9e-65d1-499a-e9b5-daf3b8ff727c"
      },
      "execution_count": null,
      "outputs": [
        {
          "output_type": "stream",
          "name": "stdout",
          "text": [
            "IC 95%: (51199.14, 53295.36)\n"
          ]
        }
      ]
    },
    {
      "cell_type": "markdown",
      "source": [
        "## C. Probabilidad condicional: respuesta a campaña dado que compró vino (MEJORA)"
      ],
      "metadata": {
        "id": "xfdBMsEDFVUu"
      }
    },
    {
      "cell_type": "markdown",
      "source": [
        "¿cuál es la chance de que alguien responda a la campaña si ya compra vino? Esto puede orientar campañas futuras."
      ],
      "metadata": {
        "id": "Hbc-ov9tGeJI"
      }
    },
    {
      "cell_type": "code",
      "source": [
        "# Definir respuesta positiva y compras de vino\n",
        "respondio = df[df['Response'] == 1]\n",
        "prob_compra_vino_y_resp = len(respondio[respondio['MntWines'] > 0]) / len(df)\n",
        "prob_compra_vino = len(df[df['MntWines'] > 0]) / len(df)\n",
        "\n",
        "# P(Response=1 | Compra vino)\n",
        "prob_cond = prob_compra_vino_y_resp / prob_compra_vino\n",
        "print(f\"Probabilidad de responder a campaña dado que compra vino: {prob_cond:.4f}\")\n"
      ],
      "metadata": {
        "colab": {
          "base_uri": "https://localhost:8080/"
        },
        "id": "fJD5xYkcFZAV",
        "outputId": "fa6bda11-be38-40f0-92f2-a1355dc68056"
      },
      "execution_count": null,
      "outputs": [
        {
          "output_type": "stream",
          "name": "stdout",
          "text": [
            "Probabilidad de responder a campaña dado que compra vino: 0.1500\n"
          ]
        }
      ]
    },
    {
      "cell_type": "markdown",
      "source": [
        "# Aplicación de Probabilidad: Eventos Dependientes e Independientes (MEJORA)\n"
      ],
      "metadata": {
        "id": "kASo2sKwWTw1"
      }
    },
    {
      "cell_type": "markdown",
      "source": [
        "Probabilidad condicional: ¿Cuál es la probabilidad de que una persona responda a la campaña dado su estado civil?"
      ],
      "metadata": {
        "id": "oZ-TEfGyWate"
      }
    },
    {
      "cell_type": "code",
      "source": [
        "# Creamos una tabla de contingencia\n",
        "contingencia = pd.crosstab(df['Marital_Status'], df['Response'], normalize='index')\n",
        "\n",
        "# Mostramos la probabilidad de respuesta (Response=1) por estado civil\n",
        "contingencia[1].sort_values(ascending=False).plot(kind='bar', figsize=(8,5), title=\"P(Responder=1 | Estado Civil)\")\n",
        "plt.ylabel(\"Probabilidad Condicional\")\n",
        "plt.show()\n",
        "\n",
        "print(contingencia[1].sort_values(ascending=False))\n"
      ],
      "metadata": {
        "colab": {
          "base_uri": "https://localhost:8080/",
          "height": 709
        },
        "id": "4cMV0g6jWbf-",
        "outputId": "0cb2a446-f2df-47f2-f59e-e49cdccf429c"
      },
      "execution_count": null,
      "outputs": [
        {
          "output_type": "display_data",
          "data": {
            "text/plain": [
              "<Figure size 800x500 with 1 Axes>"
            ],
            "image/png": "[encoded data removed]"
          },
          "metadata": {}
        },
        {
          "output_type": "stream",
          "name": "stdout",
          "text": [
            "Marital_Status\n",
            "Absurd      0.500000\n",
            "YOLO        0.500000\n",
            "Alone       0.333333\n",
            "Widow       0.246753\n",
            "Single      0.220833\n",
            "Divorced    0.206897\n",
            "Married     0.113426\n",
            "Together    0.103448\n",
            "Name: 1, dtype: float64\n"
          ]
        }
      ]
    },
    {
      "cell_type": "markdown",
      "source": [
        "Probabilidad conjunta: ¿Cuál es la probabilidad de que un cliente sea casado y haya respondido a la campaña?"
      ],
      "metadata": {
        "id": "TVEDSTbvWepG"
      }
    },
    {
      "cell_type": "code",
      "source": [
        "# Probabilidad conjunta: casado y respondió\n",
        "total = len(df)\n",
        "casado_y_respondio = len(df[(df['Marital_Status'].str.contains(\"Married|Together\")) & (df['Response'] == 1)])\n",
        "\n",
        "p_conjunta = casado_y_respondio / total\n",
        "print(f\"P(Casado y Responde): {p_conjunta:.4f}\")\n"
      ],
      "metadata": {
        "colab": {
          "base_uri": "https://localhost:8080/"
        },
        "id": "QuCNMh-tWggu",
        "outputId": "8cfb4d65-6aaf-4728-85cb-9ceae61d6fe4"
      },
      "execution_count": null,
      "outputs": [
        {
          "output_type": "stream",
          "name": "stdout",
          "text": [
            "P(Casado y Responde): 0.0705\n"
          ]
        }
      ]
    },
    {
      "cell_type": "markdown",
      "source": [
        "Independencia de eventos: ¿Responder es independiente del estado civil? (verificamos si P(A y B) = P(A) * P(B))"
      ],
      "metadata": {
        "id": "7VvdL42rWi4D"
      }
    },
    {
      "cell_type": "code",
      "source": [
        "# P(A): probabilidad de ser casado\n",
        "p_casado = len(df[df['Marital_Status'].str.contains(\"Married|Together\")]) / total\n",
        "\n",
        "# P(B): probabilidad de responder\n",
        "p_responde = len(df[df['Response'] == 1]) / total\n",
        "\n",
        "# P(A)*P(B)\n",
        "p_independencia = p_casado * p_responde\n",
        "\n",
        "print(f\"P(Casado)*P(Responde): {p_independencia:.4f}\")\n",
        "print(f\"P(Casado y Responde): {p_conjunta:.4f}\")\n",
        "\n",
        "if abs(p_conjunta - p_independencia) < 0.01:\n",
        "    print(\"Podemos asumir independencia entre casado y responder (aproximadamente).\")\n",
        "else:\n",
        "    print(\"Casado y responder NO son eventos independientes.\")\n"
      ],
      "metadata": {
        "colab": {
          "base_uri": "https://localhost:8080/"
        },
        "id": "NqzLH2oMWleJ",
        "outputId": "936b7ac8-ec2f-4ca0-8f92-b42f31e18ae8"
      },
      "execution_count": null,
      "outputs": [
        {
          "output_type": "stream",
          "name": "stdout",
          "text": [
            "P(Casado)*P(Responde): 0.0961\n",
            "P(Casado y Responde): 0.0705\n",
            "Casado y responder NO son eventos independientes.\n"
          ]
        }
      ]
    },
    {
      "cell_type": "markdown",
      "source": [
        "## Análisis de Probabilidades: Condicional, Conjunta e Independencia (MEJORA)\n",
        "\n",
        "- La **probabilidad condicional** P(Responder | Estado Civil) nos permite conocer cómo varía la tasa de respuesta según el estado civil del cliente. Por ejemplo, si los casados responden más que los solteros, podríamos enfocar campañas en ese segmento.\n",
        "\n",
        "- La **probabilidad conjunta** P(Casado ∩ Responde) mide cuántos clientes cumplen ambas condiciones a la vez. Este análisis puede ayudar a identificar patrones combinados de comportamiento.\n",
        "\n",
        "- Finalmente, al comparar P(Casado ∩ Responde) con P(Casado)*P(Responde), podemos evaluar si los eventos son **independientes**. Si no lo son, significa que una condición (estar casado) afecta la probabilidad de la otra (responder), lo cual es muy útil para segmentar.\n",
        "\n",
        "Este tipo de análisis enriquece el diagnóstico de marketing al incorporar nociones básicas de estadística inferencial y probabilidad en contextos reales.\n"
      ],
      "metadata": {
        "id": "Rdps-WFNWpVk"
      }
    },
    {
      "cell_type": "markdown",
      "source": [
        "# Correlación entre Variables (MEJORA)"
      ],
      "metadata": {
        "id": "Lh8UvcQnF--V"
      }
    },
    {
      "cell_type": "markdown",
      "source": [
        "Identifica relaciones lineales entre variables. Por ejemplo, si a mayor ingreso también aumenta el gasto en vino. No implica causalidad, pero es clave para modelos predictivos"
      ],
      "metadata": {
        "id": "zgV2FNF5GriT"
      }
    },
    {
      "cell_type": "code",
      "source": [
        "cor_matrix = df[['Income', 'MntWines', 'Recency', 'Kidhome', 'Teenhome']].corr()\n",
        "\n",
        "plt.figure(figsize=(8,6))\n",
        "sns.heatmap(cor_matrix, annot=True, cmap='coolwarm')\n",
        "plt.title(\"Matriz de correlación\")\n",
        "plt.show()\n"
      ],
      "metadata": {
        "colab": {
          "base_uri": "https://localhost:8080/",
          "height": 545
        },
        "id": "lVSebZ9zGCy7",
        "outputId": "a0194664-9c22-4e17-dfa2-44137dba7f5c"
      },
      "execution_count": null,
      "outputs": [
        {
          "output_type": "display_data",
          "data": {
            "text/plain": [
              "<Figure size 800x600 with 2 Axes>"
            ],
            "image/png": "[encoded data removed]"
          },
          "metadata": {}
        }
      ]
    },
    {
      "cell_type": "markdown",
      "source": [
        "# Desafío: Analizar el comportamiento de diferentes perfiles de clientes y buscar patrones de consumo asociados a variables demográficas y a la respuesta a las campañas de marketing."
      ],
      "metadata": {
        "id": "XxhS4fV8CDYH"
      }
    },
    {
      "cell_type": "markdown",
      "source": [
        "# ***tasa de respuesta por estado civil:***\n",
        "Generamos un gráfico de barras que muestre el promedio de respuesta a campañas de marketing para cada grupo según su estado civil.\n",
        "Permitiendo visualizar qué grupos, según su estado civil, tienden más a responder las campañas publicitarias.\n",
        "\n"
      ],
      "metadata": {
        "id": "hAjt7icrCzOR"
      }
    },
    {
      "cell_type": "code",
      "source": [
        "plt.figure(figsize=(8, 5))\n",
        "sns.barplot(data=df, x='Marital_Status', y='Response', estimator=np.mean, ci=None)\n",
        "plt.title('Tasa de Respuesta a Campañas por Estado Civil')\n",
        "plt.ylabel('Tasa de Respuesta Promedio')\n",
        "plt.xlabel('Estado Civil')\n",
        "plt.xticks(rotation=45)\n",
        "plt.tight_layout()\n",
        "plt.show()"
      ],
      "metadata": {
        "colab": {
          "base_uri": "https://localhost:8080/",
          "height": 594
        },
        "id": "CYI26QrkCK-C",
        "outputId": "ace81895-4c9e-431f-b8c5-b00d38301b09"
      },
      "execution_count": null,
      "outputs": [
        {
          "output_type": "stream",
          "name": "stderr",
          "text": [
            "<ipython-input-13-0d39fd365c05>:2: FutureWarning: \n",
            "\n",
            "The `ci` parameter is deprecated. Use `errorbar=None` for the same effect.\n",
            "\n",
            "  sns.barplot(data=df, x='Marital_Status', y='Response', estimator=np.mean, ci=None)\n"
          ]
        },
        {
          "output_type": "display_data",
          "data": {
            "text/plain": [
              "<Figure size 800x500 with 1 Axes>"
            ],
            "image/png": "[encoded data removed]"
          },
          "metadata": {}
        }
      ]
    },
    {
      "cell_type": "markdown",
      "source": [
        "Resultados:\n",
        "Se evidencia claramente que, las personas que están en pareja tienden a responder menos a las campañas (variables \"Together\" y \"Married\"). En cambio, todas las variables que representan a personas solteras (\"Single\", \"Divorced\", \"Widow\", \"Alone\") tienen una tasa más alta de respuesta a las campañas que las personas solteras.\n"
      ],
      "metadata": {
        "id": "ug9vsjqED0mF"
      }
    },
    {
      "cell_type": "markdown",
      "source": [
        "También es importante destacar que YOLO y Absurd no son tomadas en cuenta ya que son errores. No representan estados civiles."
      ],
      "metadata": {
        "id": "0sjS37h2Eb2X"
      }
    },
    {
      "cell_type": "markdown",
      "source": [
        "# Gasto Promedio Total Por Grupo Etario"
      ],
      "metadata": {
        "id": "vsRKLDO8FAsf"
      }
    },
    {
      "cell_type": "code",
      "source": [
        "df_filtrado = df.dropna(subset=['Grupo_Edad', 'Gasto_Total'])\n",
        "\n",
        "plt.figure(figsize=(8, 5))\n",
        "sns.barplot(data=df_filtrado, x='Grupo_Edad', y='Gasto_Total', estimator=np.mean, ci=None)\n",
        "plt.title('Gasto Promedio Total por Grupo Etario')\n",
        "plt.ylabel('Gasto Promedio Total')\n",
        "plt.xlabel('Grupo Etario')\n",
        "plt.xticks(rotation=45)\n",
        "plt.tight_layout()\n",
        "plt.show()"
      ],
      "metadata": {
        "colab": {
          "base_uri": "https://localhost:8080/",
          "height": 594
        },
        "id": "7supel2mFLh4",
        "outputId": "f69ff0f3-8472-41ee-8d9c-79a02e87e58d"
      },
      "execution_count": null,
      "outputs": [
        {
          "output_type": "stream",
          "name": "stderr",
          "text": [
            "<ipython-input-14-a22e7ecb4144>:5: FutureWarning: \n",
            "\n",
            "The `ci` parameter is deprecated. Use `errorbar=None` for the same effect.\n",
            "\n",
            "  sns.barplot(data=df_filtrado, x='Grupo_Edad', y='Gasto_Total', estimator=np.mean, ci=None)\n"
          ]
        },
        {
          "output_type": "display_data",
          "data": {
            "text/plain": [
              "<Figure size 800x500 with 1 Axes>"
            ],
            "image/png": "[encoded data removed]"
          },
          "metadata": {}
        }
      ]
    },
    {
      "cell_type": "markdown",
      "source": [
        "El gráfico muestra cuánto gastan en promedio los clientes de distintos rangos de edad."
      ],
      "metadata": {
        "id": "jtKHGaH-FOXS"
      }
    },
    {
      "cell_type": "markdown",
      "source": [
        "Se agruparon a los clientes en los 4 rangos visibles (Jóvenes, Adultos, Mayores, Seniors) y se calcularon sus promedios del gasto total en productos como el vino, carne, frutas, etc."
      ],
      "metadata": {
        "id": "vcHRRuPcFRj_"
      }
    },
    {
      "cell_type": "markdown",
      "source": [
        "**Conclusiones:**\n",
        "El grupo de jóvenes entre 21 y 35 años son los que tienen el gasto promedio más alto. Seguidos por los Seniors de 66 años hacia arriba.\n",
        "\n",
        "Los bajos promedios de Adultos de 36 a 50 años y Mayores de 51 a 65, quizá pueden ser explicadas por que en este rango de edad las personas tienen mayores responsabilidades económicas."
      ],
      "metadata": {
        "id": "flUwFpcvFjNS"
      }
    },
    {
      "cell_type": "markdown",
      "source": [
        "# **Tasa de respuesta por tramo de ingreso**"
      ],
      "metadata": {
        "id": "R-UqPmXqHBv9"
      }
    },
    {
      "cell_type": "code",
      "source": [
        "df_ingresos = df.dropna(subset=['Income'])\n",
        "\n",
        "df_ingresos['Tramo_Ingreso'] = pd.cut(df_ingresos['Income'],\n",
        "                                       bins=[0, 20000, 40000, 60000, 80000, 100000, df_ingresos['Income'].max()],\n",
        "                                       labels=['0-20k', '20k-40k', '40k-60k', '60k-80k', '80k-100k', '100k+'])\n",
        "\n",
        "plt.figure(figsize=(8, 5))\n",
        "sns.barplot(data=df_ingresos, x='Tramo_Ingreso', y='Response', estimator=np.mean, ci=None)\n",
        "plt.title('Tasa de Respuesta Promedio por Tramo de Ingreso')\n",
        "plt.ylabel('Tasa de Respuesta')\n",
        "plt.xlabel('Ingreso Anual (en miles)')\n",
        "plt.tight_layout()\n",
        "plt.show()\n"
      ],
      "metadata": {
        "colab": {
          "base_uri": "https://localhost:8080/",
          "height": 698
        },
        "id": "dwiXxFQLHTs_",
        "outputId": "8d9ceb21-8807-4590-a179-7fdbdf4bd659"
      },
      "execution_count": null,
      "outputs": [
        {
          "output_type": "stream",
          "name": "stderr",
          "text": [
            "<ipython-input-15-4f5d5e0583c7>:6: SettingWithCopyWarning: \n",
            "A value is trying to be set on a copy of a slice from a DataFrame.\n",
            "Try using .loc[row_indexer,col_indexer] = value instead\n",
            "\n",
            "See the caveats in the documentation: https://pandas.pydata.org/pandas-docs/stable/user_guide/indexing.html#returning-a-view-versus-a-copy\n",
            "  df_ingresos['Tramo_Ingreso'] = pd.cut(df_ingresos['Income'],\n",
            "<ipython-input-15-4f5d5e0583c7>:12: FutureWarning: \n",
            "\n",
            "The `ci` parameter is deprecated. Use `errorbar=None` for the same effect.\n",
            "\n",
            "  sns.barplot(data=df_ingresos, x='Tramo_Ingreso', y='Response', estimator=np.mean, ci=None)\n"
          ]
        },
        {
          "output_type": "display_data",
          "data": {
            "text/plain": [
              "<Figure size 800x500 with 1 Axes>"
            ],
            "image/png": "[encoded data removed]"
          },
          "metadata": {}
        }
      ]
    },
    {
      "cell_type": "markdown",
      "source": [
        "Se realizó este gráfico con 6 divisiones de ingresos anuales entre 0 y 100k(hacia arriba) para realizar esta interpretación y conclusiones.\n",
        "\n",
        "\n",
        "**Conclusiones:**\n",
        "Los dos grupos con mayor Ingreso Anual, son los que más responden a las campañas.\n",
        "Los 4 grupos de entre 0 y 80k Tienen promedios muy similares de respuesta.\n",
        "\n",
        "La tasa de respuesta no crece linealmente con el ingreso."
      ],
      "metadata": {
        "id": "EOAaZnoLHeKT"
      }
    },
    {
      "cell_type": "markdown",
      "source": [],
      "metadata": {
        "id": "k750zt3YItWw"
      }
    },
    {
      "cell_type": "markdown",
      "source": [
        "# Gasto Promedio Total Por Nivel Educativo"
      ],
      "metadata": {
        "id": "Qbj5Ws8IJuOV"
      }
    },
    {
      "cell_type": "code",
      "source": [
        "df_educ = df.dropna(subset=['Education', 'Gasto_Total'])\n",
        "\n",
        "plt.figure(figsize=(8, 5))\n",
        "sns.barplot(data=df_educ, x='Education', y='Gasto_Total', estimator=np.mean, ci=None)\n",
        "plt.title('Gasto Promedio Total por Nivel Educativo')\n",
        "plt.ylabel('Gasto Promedio Total')\n",
        "plt.xlabel('Nivel Educativo')\n",
        "plt.xticks(rotation=45)\n",
        "plt.tight_layout()\n",
        "plt.show()\n"
      ],
      "metadata": {
        "colab": {
          "base_uri": "https://localhost:8080/",
          "height": 594
        },
        "id": "QVQIBNXwJwTj",
        "outputId": "7060adab-762c-454a-f22b-e431d91cc3f6"
      },
      "execution_count": null,
      "outputs": [
        {
          "output_type": "stream",
          "name": "stderr",
          "text": [
            "<ipython-input-16-a3db9ef69ded>:4: FutureWarning: \n",
            "\n",
            "The `ci` parameter is deprecated. Use `errorbar=None` for the same effect.\n",
            "\n",
            "  sns.barplot(data=df_educ, x='Education', y='Gasto_Total', estimator=np.mean, ci=None)\n"
          ]
        },
        {
          "output_type": "display_data",
          "data": {
            "text/plain": [
              "<Figure size 800x500 with 1 Axes>"
            ],
            "image/png": "[encoded data removed]"
          },
          "metadata": {}
        }
      ]
    },
    {
      "cell_type": "markdown",
      "source": [
        "**Conclusiones:**\n",
        "Los clientes con nivel PhD y Master son quienes gastan más en promedio total.\n",
        "\n",
        "Los que tienen estudios más bajos (2n Cycle y Basic) tienen un gasto muy bajo comparado al resto.\n",
        "\n",
        "Prácticamente existe una relación positiva, mientras mayor nivel de educación, mayor gasto promedio.\n"
      ],
      "metadata": {
        "id": "kZaeYlFnJ272"
      }
    },
    {
      "cell_type": "markdown",
      "source": [
        "# PRINCIPALES HALLAZGOS"
      ],
      "metadata": {
        "id": "mDdN8lPgMhA8"
      }
    },
    {
      "cell_type": "markdown",
      "source": [
        "Los jóvenes (21–35 años) y los seniors (66+) presentan los mayores niveles de gasto promedio.\n",
        "\n",
        "Las personas con mayor nivel educativo (PhD, Master) tienden a gastar más.\n",
        "\n",
        "La tasa de respuesta a campañas no depende directamente del ingreso: los clientes de ingresos medios presentan tasas de respuesta más altas.\n",
        "\n",
        "Los clientes casados o en pareja responden más a las campañas que los solteros o divorciados."
      ],
      "metadata": {
        "id": "l2P7UBdPMlkQ"
      }
    },
    {
      "cell_type": "markdown",
      "source": [
        "***Conclusión:***\n",
        "El análisis permite construir una visión clara de los diferentes perfiles de clientes, identificando los más rentables y receptivos. Esta información puede ser utilizada para mejorar la segmentación de campañas y optimizar la inversión en marketing.\n",
        "\n"
      ],
      "metadata": {
        "id": "jMVSz5jRMozs"
      }
    },
    {
      "cell_type": "markdown",
      "source": [
        "# CONCLUSIÓN (MEJORA)"
      ],
      "metadata": {
        "id": "dYOy-YtRpj3I"
      }
    },
    {
      "cell_type": "markdown",
      "source": [
        "Este análisis permitió obtener una visión integral del comportamiento de los clientes frente a las campañas de marketing. A partir de la exploración y procesamiento de los datos, se identificaron patrones claros en el perfil de los consumidores:\n",
        "\n",
        "Los ingresos y el estado civil influyen directamente en la probabilidad de responder a las campañas.\n",
        "\n",
        "Variables como el consumo de vino y la recencia de compra mostraron correlaciones interesantes con la respuesta del cliente.\n",
        "\n",
        "La distribución de ingresos está sesgada positivamente, lo que justifica el uso de la mediana en lugar de la media para describir el ingreso típico.\n",
        "\n",
        "La segmentación por grupo etario, nivel educacional y estado civil permitió detectar nichos específicos con mayor disposición a responder.\n",
        "\n",
        "Además, gracias a las herramientas de inferencia estadística y probabilidad, fue posible confirmar diferencias significativas entre grupos, estimar parámetros poblacionales y detectar relaciones no evidentes entre variables.\n",
        "\n",
        "En conjunto, el análisis entrega una base sólida para tomar decisiones estratégicas de marketing basadas en datos, como personalizar campañas, segmentar mejor a los clientes y focalizar recursos en los perfiles con mayor probabilidad de conversión."
      ],
      "metadata": {
        "id": "SHVyHPJ3pn4x"
      }
    }
  ]
}